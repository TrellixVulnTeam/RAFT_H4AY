{
 "cells": [
  {
   "cell_type": "code",
   "execution_count": 1,
   "metadata": {},
   "outputs": [],
   "source": [
    "#file manipulation\n",
    "from pathlib import Path\n",
    "import os\n",
    "\n",
    "#string manipulation\n",
    "import re\n",
    "import glob\n",
    "from string import punctuation as punct  # string of common punctuation chars\n",
    "\n",
    "#machine learning\n",
    "import matplotlib.pyplot as plt\n",
    "import nltk\n",
    "import pandas\n",
    "from pandas.tools.plotting import scatter_matrix\n",
    "from sklearn import model_selection\n",
    "from sklearn.metrics import classification_report\n",
    "from sklearn.metrics import confusion_matrix\n",
    "from sklearn.metrics import accuracy_score\n",
    "\n",
    "# import model classes\n",
    "from sklearn.discriminant_analysis import LinearDiscriminantAnalysis\n",
    "from sklearn.linear_model import LogisticRegression\n",
    "from sklearn.naive_bayes import GaussianNB\n",
    "from sklearn.neighbors import KNeighborsClassifier\n",
    "from sklearn.svm import SVC\n",
    "from sklearn.tree import DecisionTreeClassifier\n",
    "\n",
    "#custom class for documents\n",
    "from langdoc import LangDoc"
   ]
  },
  {
   "cell_type": "code",
   "execution_count": 2,
   "metadata": {},
   "outputs": [],
   "source": [
    "directory = \"C:\\\\Users\\\\maste\\\\Desktop\\\\texts\\\\original\"\n",
    "lemmaDirectory = directory + \"\\\\lemmas\"\n",
    "docs = {}"
   ]
  },
  {
   "cell_type": "code",
   "execution_count": 3,
   "metadata": {},
   "outputs": [
    {
     "name": "stdout",
     "output_type": "stream",
     "text": [
      "Start\n",
      "Finished\n"
     ]
    }
   ],
   "source": [
    "print(\"Start\")\n",
    "for filename in os.listdir(directory):\n",
    "    if filename.endswith('.txt'):\n",
    "        myFile = os.path.join(directory, filename)\n",
    "        f = open(myFile, \"r\", encoding=\"utf8\")\n",
    "        content = f.read()\n",
    "        f.close()\n",
    "        myLemmaFile = os.path.join(lemmaDirectory, \"pp-\" + filename)\n",
    "        f = open(myLemmaFile, \"r\", encoding=\"utf8\")\n",
    "        lemmaContent = f.read()\n",
    "        f.close()\n",
    "        docs[filename]=LangDoc(content, lemmaContent, filename)\n",
    "print(\"Finished\")\n",
    "        "
   ]
  },
  {
   "cell_type": "code",
   "execution_count": 7,
   "metadata": {},
   "outputs": [
    {
     "name": "stdout",
     "output_type": "stream",
     "text": [
      "Start\n",
      "Finished\n"
     ]
    }
   ],
   "source": [
    "print(\"Start\")\n",
    "fout = open(os.path.join(directory,\"arabicReading.data\"), \"w+\",encoding='utf8')\n",
    "for docName in docs:\n",
    "    doc = docs[docName]\n",
    "    fout.write(doc.GetDataString()+\"\\n\")\n",
    "fout.close()\n",
    "print(\"Finished\")"
   ]
  },
  {
   "cell_type": "code",
   "execution_count": null,
   "metadata": {},
   "outputs": [],
   "source": []
  }
 ],
 "metadata": {
  "kernelspec": {
   "display_name": "Python 3",
   "language": "python",
   "name": "python3"
  },
  "language_info": {
   "codemirror_mode": {
    "name": "ipython",
    "version": 3
   },
   "file_extension": ".py",
   "mimetype": "text/x-python",
   "name": "python",
   "nbconvert_exporter": "python",
   "pygments_lexer": "ipython3",
   "version": "3.6.5rc1"
  }
 },
 "nbformat": 4,
 "nbformat_minor": 2
}
