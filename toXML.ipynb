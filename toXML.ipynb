{
 "cells": [
  {
   "cell_type": "code",
   "execution_count": 1,
   "metadata": {},
   "outputs": [],
   "source": [
    "from pathlib import Path\n",
    "import os"
   ]
  },
  {
   "cell_type": "code",
   "execution_count": 2,
   "metadata": {},
   "outputs": [],
   "source": [
    "directory = 'C:\\\\Users\\\\maste\\\\Desktop\\\\RAFT\\\\arabicScraperOutput'"
   ]
  },
  {
   "cell_type": "code",
   "execution_count": 5,
   "metadata": {},
   "outputs": [],
   "source": [
    "def getTagContent(text,tagName):\n",
    "    tagStart = \"<\" + tagName + \">\"\n",
    "    tagEnd = \"</\" + tagName + \">\"\n",
    "    posStart = text.find(tagStart)\n",
    "    if posStart != -1:\n",
    "        posStart += len(tagStart)\n",
    "        posEnd = text.find(tagEnd)\n",
    "        tagContent = text[posStart:posEnd]\n",
    "        return tagContent\n",
    "    else:\n",
    "        return \"\"\n",
    "def createContent(text):\n",
    "    content = '''<?xml version=\"1.0\" encoding=\"UTF-8\"?>\n",
    "<madamira_input xmlns=\"urn:edu.columbia.ccls.madamira.configuration:0.1\">\n",
    "\t<madamira_configuration>\n",
    "        <preprocessing sentence_ids=\"false\" separate_punct=\"true\" input_encoding=\"UTF8\"/>\n",
    "        <overall_vars output_encoding=\"UTF8\" dialect=\"MSA\" output_analyses=\"TOP\" morph_backoff=\"NONE\"/>\n",
    "        <requested_output>\n",
    "            <req_variable name=\"PREPROCESSED\" value=\"false\" />\n",
    "            <req_variable name=\"STEM\" value=\"false\" />\n",
    "            <req_variable name=\"GLOSS\" value=\"false\" />\n",
    "            <req_variable name=\"LEMMA\" value=\"true\" />\n",
    "            <req_variable name=\"DIAC\" value=\"false\" />\n",
    "            <req_variable name=\"ASP\" value=\"false\" />\n",
    "            <req_variable name=\"CAS\" value=\"false\" />\n",
    "            <req_variable name=\"ENC0\" value=\"false\" />\n",
    "            <req_variable name=\"ENC1\" value=\"false\" />\n",
    "            <req_variable name=\"ENC2\" value=\"false\" />\n",
    "            <req_variable name=\"GEN\" value=\"false\" />\n",
    "            <req_variable name=\"MOD\" value=\"false\" />\n",
    "            <req_variable name=\"NUM\" value=\"false\" />\n",
    "            <req_variable name=\"PER\" value=\"false\" />\n",
    "            <req_variable name=\"POS\" value=\"true\" />\n",
    "            <req_variable name=\"PRC0\" value=\"false\" />\n",
    "            <req_variable name=\"PRC1\" value=\"false\" />\n",
    "            <req_variable name=\"PRC2\" value=\"false\" />\n",
    "            <req_variable name=\"PRC3\" value=\"false\" />\n",
    "            <req_variable name=\"STT\" value=\"false\" />\n",
    "            <req_variable name=\"VOX\" value=\"false\" />\n",
    "            <req_variable name=\"BW\" value=\"false\" />\n",
    "            <req_variable name=\"SOURCE\" value=\"false\" />\n",
    "\t\t\t<req_variable name=\"NER\" value=\"false\" />\n",
    "\t\t\t<req_variable name=\"BPC\" value=\"false\" />\n",
    "        </requested_output>\n",
    "\t</madamira_configuration>\n",
    "    <in_doc id=\"ExampleDocument\">\n",
    "        <in_seg id=\"BODY\">'''\n",
    "    content += '\\n'+text\n",
    "    content += '\\n</in_seg>\\n</in_doc>\\n</madamira_input>'\n",
    "    return content"
   ]
  },
  {
   "cell_type": "code",
   "execution_count": 6,
   "metadata": {},
   "outputs": [],
   "source": [
    "for filename in os.listdir(directory):\n",
    "    if filename.endswith('.txt'):\n",
    "        myFile = os.path.join(directory, filename)\n",
    "        f = open(myFile, \"r\", encoding=\"utf8\")\n",
    "        text = f.read()\n",
    "        f.close()\n",
    "        body = getTagContent(text, 'BODY')\n",
    "        if (body != ''):\n",
    "            outContent = createContent(body)\n",
    "            myFileOut = os.path.join(directory+'\\\\xml',filename[:-4]+'.xml')\n",
    "            fout = open(myFileOut, \"w+\",encoding='utf8')\n",
    "            fout.write(outContent)\n",
    "            fout.close"
   ]
  },
  {
   "cell_type": "code",
   "execution_count": null,
   "metadata": {},
   "outputs": [],
   "source": []
  }
 ],
 "metadata": {
  "kernelspec": {
   "display_name": "Python 3",
   "language": "python",
   "name": "python3"
  },
  "language_info": {
   "codemirror_mode": {
    "name": "ipython",
    "version": 3
   },
   "file_extension": ".py",
   "mimetype": "text/x-python",
   "name": "python",
   "nbconvert_exporter": "python",
   "pygments_lexer": "ipython3",
   "version": "3.6.5rc1"
  }
 },
 "nbformat": 4,
 "nbformat_minor": 2
}
