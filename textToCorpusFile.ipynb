{
 "cells": [
  {
   "cell_type": "code",
   "execution_count": 2,
   "metadata": {},
   "outputs": [],
   "source": [
    "#file manipulation\n",
    "from pathlib import Path\n",
    "import os\n"
   ]
  },
  {
   "cell_type": "code",
   "execution_count": 7,
   "metadata": {},
   "outputs": [
    {
     "name": "stdout",
     "output_type": "stream",
     "text": [
      "29937\n"
     ]
    }
   ],
   "source": [
    "dir = \"C:\\\\Users\\\\maste\\\\Desktop\\\\iasj\"\n",
    "outdir = \"C:\\\\Users\\\\maste\\\\Desktop\\\\RAFT\\\\arabicScraperOutput\"\n",
    "for filename in os.listdir(dir):\n",
    "    docname = filename[:-4]\n",
    "    try:\n",
    "        with open(dir + \"\\\\\" + filename, \"r\", encoding=\"utf-8\") as f:\n",
    "            text = f.read();\n",
    "        with open(outdir + \"\\\\iasj_\" + docname + \".txt\", \"w+\", encoding=\"utf-8\") as f:\n",
    "            f.write(\"<DIFFICULTY>4</DIFFICULTY>\\n\")\n",
    "            f.write(\"<BODY>\\n\")\n",
    "            f.write(text)\n",
    "            f.write(\"\\n</BODY>\\n\")\n",
    "    except:\n",
    "        print(docname)"
   ]
  }
 ],
 "metadata": {
  "kernelspec": {
   "display_name": "Python 3",
   "language": "python",
   "name": "python3"
  },
  "language_info": {
   "codemirror_mode": {
    "name": "ipython",
    "version": 3
   },
   "file_extension": ".py",
   "mimetype": "text/x-python",
   "name": "python",
   "nbconvert_exporter": "python",
   "pygments_lexer": "ipython3",
   "version": "3.6.5rc1"
  }
 },
 "nbformat": 4,
 "nbformat_minor": 2
}
