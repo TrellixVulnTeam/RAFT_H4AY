{
 "cells": [
  {
   "cell_type": "code",
   "execution_count": 1,
   "metadata": {},
   "outputs": [],
   "source": [
    "import matplotlib.pyplot as plt\n",
    "import pandas\n",
    "from pandas.tools.plotting import scatter_matrix\n",
    "from sklearn import model_selection\n",
    "from sklearn.metrics import classification_report\n",
    "from sklearn.metrics import confusion_matrix\n",
    "from sklearn.metrics import accuracy_score\n",
    "\n",
    "# import model classes\n",
    "from sklearn.discriminant_analysis import LinearDiscriminantAnalysis\n",
    "from sklearn.linear_model import LogisticRegression\n",
    "from sklearn.naive_bayes import GaussianNB\n",
    "from sklearn.neighbors import KNeighborsClassifier\n",
    "from sklearn.svm import SVC\n",
    "from sklearn.tree import DecisionTreeClassifier"
   ]
  },
  {
   "cell_type": "code",
   "execution_count": 21,
   "metadata": {},
   "outputs": [
    {
     "name": "stdout",
     "output_type": "stream",
     "text": [
      "<class 'pandas.core.frame.DataFrame'>\n"
     ]
    }
   ],
   "source": [
    "# Load dataset\n",
    "filename = 'arabicReading.data'\n",
    "names = ['word-count', 'sentence-count', 'words-per-sentence', 'lemma-count', 'difficulty']\n",
    "with open(filename) as data_file:\n",
    "    dataset = pandas.read_csv(data_file, names=names)  # pandas DataFrame\n",
    "print(type(dataset))"
   ]
  },
  {
   "cell_type": "code",
   "execution_count": 23,
   "metadata": {},
   "outputs": [
    {
     "name": "stdout",
     "output_type": "stream",
     "text": [
      "\"Shape\" of dataset: (581, 5) (581 instances of 5 attributes)\n",
      "\n",
      "\"head\" of data:\n",
      "     word-count  sentence-count  words-per-sentence  lemma-count difficulty\n",
      "0          268              14           19.142857          166          2\n",
      "1          313               9           34.777778          212          2\n",
      "2          142              34            4.176471           63         1+\n",
      "3          170              27            6.296296           81          1\n",
      "4          136              31            4.387097           84          1\n",
      "5          146              25            5.840000           85          1\n",
      "6          243               9           27.000000          152          2\n",
      "7          266               9           29.555556          178          3\n",
      "8          321              13           24.692308          198          3\n",
      "9            0               1            0.000000            0          1\n",
      "10         291              11           26.454545          197          2\n",
      "11         276              17           16.235294          156          2\n",
      "12         406               9           45.111111          235          2\n",
      "13          95              15            6.333333           64          1\n",
      "14         247              12           20.583333           85         1+\n",
      "15         311              15           20.733333          200          2\n",
      "16         178              15           11.866667          102         1+\n",
      "17         292              14           20.857143          163          2\n",
      "18         281              12           23.416667          196         2+\n",
      "19         324              11           29.454545          168         2+\n",
      "\n",
      "Description of data:\n",
      ":        word-count  sentence-count  words-per-sentence  lemma-count\n",
      "count  581.000000      581.000000          581.000000   581.000000\n",
      "mean   220.168675       15.091222           16.789200   130.629948\n",
      "std    107.404516        7.839133            9.401351    59.594079\n",
      "min      0.000000        1.000000            0.000000     0.000000\n",
      "25%    144.000000       10.000000            9.500000    86.000000\n",
      "50%    223.000000       13.000000           16.400000   135.000000\n",
      "75%    291.000000       18.000000           22.666667   170.000000\n",
      "max    586.000000       81.000000           55.714286   318.000000\n",
      "\n",
      "Class distribution:\n",
      " difficulty\n",
      "1     107\n",
      "1+     44\n",
      "2     212\n",
      "2+    128\n",
      "3      87\n",
      "3+      3\n",
      "dtype: int64\n",
      "\n"
     ]
    }
   ],
   "source": [
    "# Summarize the data\n",
    "print('\"Shape\" of dataset:', dataset.shape,\n",
    "      '({} instances of {} attributes)'.format(*dataset.shape))\n",
    "print()\n",
    "print('\"head\" of data:\\n', dataset.head(20))  # head() is a method of DataFrame\n",
    "print()\n",
    "print('Description of data:\\n:', dataset.describe())\n",
    "print()\n",
    "print('Class distribution:\\n', dataset.groupby('difficulty').size())\n",
    "print()"
   ]
  },
  {
   "cell_type": "code",
   "execution_count": 16,
   "metadata": {},
   "outputs": [
    {
     "name": "stdout",
     "output_type": "stream",
     "text": [
      "Drawing boxplot...\n",
      "finished\n"
     ]
    },
    {
     "data": {
      "image/png": "[encoded data removed]",
      "text/plain": [
       "<Figure size 432x288 with 4 Axes>"
      ]
     },
     "metadata": {
      "needs_background": "light"
     },
     "output_type": "display_data"
    }
   ],
   "source": [
    "# Visualize the data\n",
    "print('Drawing boxplot...')\n",
    "dataset.plot(kind='box', subplots=True, layout=(2, 2),\n",
    "             sharex=False, sharey=False)\n",
    "fig = plt.gcf()  # get current figure\n",
    "fig.savefig('boxplots.png')\n",
    "print('finished')"
   ]
  },
  {
   "cell_type": "code",
   "execution_count": 24,
   "metadata": {},
   "outputs": [
    {
     "data": {
      "text/plain": [
       "\"\\nprint('Drawing histograms...')\\ndataset.hist()\\nfig = plt.gcf()\\nfig.savefig('histograms.png')\\n\""
      ]
     },
     "execution_count": 24,
     "metadata": {},
     "output_type": "execute_result"
    }
   ],
   "source": [
    "# histograms\n",
    "'''print('Drawing histograms...')\n",
    "dataset.hist()\n",
    "fig = plt.gcf()\n",
    "fig.savefig('histograms.png')'''"
   ]
  },
  {
   "cell_type": "code",
   "execution_count": 25,
   "metadata": {},
   "outputs": [
    {
     "data": {
      "text/plain": [
       "\"print('Drawing scatterplot matrix...')\\nscatter_matrix(dataset)\\nfig = plt.gcf()\\nfig.savefig('scatter_matrix.png')\""
      ]
     },
     "execution_count": 25,
     "metadata": {},
     "output_type": "execute_result"
    }
   ],
   "source": [
    "# scatter plot matrix\n",
    "'''print('Drawing scatterplot matrix...')\n",
    "scatter_matrix(dataset)\n",
    "fig = plt.gcf()\n",
    "fig.savefig('scatter_matrix.png')'''"
   ]
  },
  {
   "cell_type": "code",
   "execution_count": 26,
   "metadata": {},
   "outputs": [
    {
     "name": "stdout",
     "output_type": "stream",
     "text": [
      "Splitting training/development set and validation set...\n",
      "\tfull original data and their respective labels:\n",
      "[[268 14 19.142857142857142 166]\n",
      " [313 9 34.77777777777778 212]\n",
      " [142 34 4.176470588235294 63]\n",
      " [170 27 6.296296296296298 81]\n",
      " [136 31 4.387096774193549 84]]\n",
      "\n",
      "['2' '2' '1+' '1' '1']\n",
      "\n",
      "\n",
      "\ttraining data:\n",
      "\n",
      "\n",
      "[[79 13 6.0769230769230775 61]\n",
      " [249 9 27.66666666666667 146]\n",
      " [311 14 22.214285714285715 183]\n",
      " [225 13 17.307692307692307 130]\n",
      " [252 11 22.90909090909091 154]]\n",
      "\n",
      "\ttraining labels:\n",
      "\n",
      "\n",
      "['1' '2' '2' '2' '2']\n",
      "\n",
      "\tvalidation data:\n",
      "\n",
      "\n",
      "[[242 11 22.0 144]\n",
      " [327 12 27.25 206]\n",
      " [230 8 28.75 143]\n",
      " [352 12 29.33333333333333 217]\n",
      " [364 18 20.222222222222218 212]]\n",
      "\n",
      "\tvalidation labels:\n",
      "\n",
      "\n",
      "['2' '3' '2' '3' '2']\n"
     ]
    }
   ],
   "source": [
    "print('Splitting training/development set and validation set...')\n",
    "# Split-out validation dataset\n",
    "array = dataset.values\n",
    "features = array[:,0:4]  # comma in slice signifies a tuple (tuples in slices is a numpy array thing)\n",
    "labels = array[:,4]\n",
    "print('\\tfull original data and their respective labels:')\n",
    "print(features[:5], labels[:5], sep='\\n\\n', end='\\n\\n\\n')\n",
    "validation_size = 0.20\n",
    "seed = 7\n",
    "feats_train, feats_validation, labels_train, labels_validation = model_selection.train_test_split(features, labels, test_size=validation_size, random_state=seed)\n",
    "print('\\ttraining data:\\n', feats_train[:5],\n",
    "      '\\ttraining labels:\\n', labels_train[:5],\n",
    "      '\\tvalidation data:\\n', feats_validation[:5],\n",
    "      '\\tvalidation labels:\\n', labels_validation[:5], sep='\\n\\n')"
   ]
  },
  {
   "cell_type": "code",
   "execution_count": 27,
   "metadata": {},
   "outputs": [
    {
     "name": "stdout",
     "output_type": "stream",
     "text": [
      "\n"
     ]
    }
   ],
   "source": [
    "# Test options and evaluation metric\n",
    "seed = 7  # seeds the randomizer so that 'random' choices are the same in each run\n",
    "scoring = 'accuracy'\n",
    "print()"
   ]
  },
  {
   "cell_type": "code",
   "execution_count": 28,
   "metadata": {},
   "outputs": [
    {
     "name": "stdout",
     "output_type": "stream",
     "text": [
      "Initializing models...\n",
      "Training and testing each model using 10-fold cross-validation...\n",
      "LR:\t0.4617\t(0.0807)\n",
      "LDA:\t0.4682\t(0.0722)\n",
      "KNN:\t0.4723\t(0.0521)\n",
      "CART:\t0.4331\t(0.0640)\n",
      "NB:\t0.4464\t(0.0630)\n"
     ]
    },
    {
     "name": "stderr",
     "output_type": "stream",
     "text": [
      "c:\\users\\maste\\envs\\envtest\\lib\\site-packages\\sklearn\\discriminant_analysis.py:442: UserWarning: The priors do not sum to 1. Renormalizing\n",
      "  UserWarning)\n",
      "c:\\users\\maste\\envs\\envtest\\lib\\site-packages\\sklearn\\discriminant_analysis.py:442: UserWarning: The priors do not sum to 1. Renormalizing\n",
      "  UserWarning)\n",
      "c:\\users\\maste\\envs\\envtest\\lib\\site-packages\\sklearn\\discriminant_analysis.py:442: UserWarning: The priors do not sum to 1. Renormalizing\n",
      "  UserWarning)\n"
     ]
    },
    {
     "name": "stdout",
     "output_type": "stream",
     "text": [
      "SVM:\t0.3491\t(0.0482)\n"
     ]
    }
   ],
   "source": [
    "print('Initializing models...')\n",
    "# Spot Check Algorithms\n",
    "models = [('LR', LogisticRegression()),\n",
    "          ('LDA', LinearDiscriminantAnalysis()),\n",
    "          ('KNN', KNeighborsClassifier()),\n",
    "          ('CART', DecisionTreeClassifier()),\n",
    "          ('NB', GaussianNB()),\n",
    "          ('SVM', SVC())]\n",
    "print('Training and testing each model using 10-fold cross-validation...')\n",
    "# https://chrisjmccormick.files.wordpress.com/2013/07/10_fold_cv.png\n",
    "# evaluate each model in turn\n",
    "results = []\n",
    "names = []\n",
    "for name, model in models:\n",
    "    kfold = model_selection.KFold(n_splits=10, random_state=seed)\n",
    "    cv_results = model_selection.cross_val_score(model, feats_train, labels_train,\n",
    "                                                 cv=kfold, scoring=scoring)\n",
    "    results.append(cv_results)\n",
    "    names.append(name)\n",
    "    msg = '{}:\\t{:.4f}\\t({:.4f})'.format(name, cv_results.mean(),\n",
    "                                         cv_results.std())\n",
    "    print(msg)"
   ]
  },
  {
   "cell_type": "code",
   "execution_count": 30,
   "metadata": {},
   "outputs": [
    {
     "name": "stdout",
     "output_type": "stream",
     "text": [
      "Drawing algorithm comparison boxplots...\n"
     ]
    },
    {
     "data": {
      "image/png": "[encoded data removed]",
      "text/plain": [
       "<Figure size 432x288 with 1 Axes>"
      ]
     },
     "metadata": {
      "needs_background": "light"
     },
     "output_type": "display_data"
    }
   ],
   "source": [
    "print('Drawing algorithm comparison boxplots...')\n",
    "fig = plt.figure()\n",
    "fig.suptitle('Algorithm Comparison')\n",
    "ax = fig.add_subplot(111)\n",
    "plt.boxplot(results)\n",
    "ax.set_xticklabels(names)\n",
    "fig = plt.gcf()\n",
    "fig.savefig('compare_algorithms.png')"
   ]
  },
  {
   "cell_type": "code",
   "execution_count": 32,
   "metadata": {},
   "outputs": [
    {
     "name": "stdout",
     "output_type": "stream",
     "text": [
      "Accuracy: 0.4444444444444444\n",
      "\n",
      "Confusion matrix:\n",
      "labels: ['1', '1+', '2', '2+', '3']\n",
      "[[ 1  0 19  0  0]\n",
      " [ 0  0  3  0  0]\n",
      " [ 0  0 51  1  0]\n",
      " [ 0  0 27  0  0]\n",
      " [ 0  0 14  0  0]]\n",
      "\n",
      "Classification report:\n",
      "             precision    recall  f1-score   support\n",
      "\n",
      "          1       1.00      0.05      0.10        20\n",
      "         1+       0.00      0.00      0.00         3\n",
      "          2       0.44      0.98      0.61        52\n",
      "         2+       0.00      0.00      0.00        27\n",
      "          3       0.00      0.00      0.00        14\n",
      "         3+       0.00      0.00      0.00         1\n",
      "\n",
      "avg / total       0.37      0.44      0.29       117\n",
      "\n",
      "['C', '__abstractmethods__', '__class__', '__delattr__', '__dict__', '__dir__', '__doc__', '__eq__', '__format__', '__ge__', '__getattribute__', '__getstate__', '__gt__', '__hash__', '__init__', '__init_subclass__', '__le__', '__lt__', '__module__', '__ne__', '__new__', '__reduce__', '__reduce_ex__', '__repr__', '__setattr__', '__setstate__', '__sizeof__', '__str__', '__subclasshook__', '__weakref__', '_abc_cache', '_abc_negative_cache', '_abc_negative_cache_version', '_abc_registry', '_check_proba', '_compute_kernel', '_decision_function', '_dense_decision_function', '_dense_fit', '_dense_predict', '_dense_predict_proba', '_dual_coef_', '_estimator_type', '_gamma', '_get_coef', '_get_param_names', '_impl', '_intercept_', '_pairwise', '_predict_log_proba', '_predict_proba', '_sparse', '_sparse_decision_function', '_sparse_fit', '_sparse_kernels', '_sparse_predict', '_sparse_predict_proba', '_validate_for_predict', '_validate_targets', '_warn_from_fit_status', 'cache_size', 'class_weight', 'class_weight_', 'classes_', 'coef0', 'coef_', 'decision_function', 'decision_function_shape', 'degree', 'dual_coef_', 'epsilon', 'fit', 'fit_status_', 'gamma', 'get_params', 'intercept_', 'kernel', 'max_iter', 'n_support_', 'nu', 'predict', 'predict_log_proba', 'predict_proba', 'probA_', 'probB_', 'probability', 'random_state', 'score', 'set_params', 'shape_fit_', 'shrinking', 'support_', 'support_vectors_', 'tol', 'verbose']\n"
     ]
    },
    {
     "name": "stderr",
     "output_type": "stream",
     "text": [
      "c:\\users\\maste\\envs\\envtest\\lib\\site-packages\\sklearn\\metrics\\classification.py:1135: UndefinedMetricWarning: Precision and F-score are ill-defined and being set to 0.0 in labels with no predicted samples.\n",
      "  'precision', 'predicted', average, warn_for)\n"
     ]
    }
   ],
   "source": [
    "# Make predictions on validation dataset\n",
    "# Using svc because it performed best on cross-validation\n",
    "final_model = SVC()\n",
    "final_model.fit(feats_train, labels_train)\n",
    "predictions = final_model.predict(feats_validation)\n",
    "print('Accuracy:', accuracy_score(labels_validation, predictions))\n",
    "print()\n",
    "print('Confusion matrix:')\n",
    "cm_labels = '1 1+ 2 2+ 3'.split()\n",
    "print('labels:', cm_labels)\n",
    "print(confusion_matrix(labels_validation, predictions, labels=cm_labels))\n",
    "print()\n",
    "print('Classification report:')\n",
    "print(classification_report(labels_validation, predictions))\n",
    "print(dir(final_model))\n",
    "if hasattr(final_model, 'feature_importances_'):\n",
    "    print('Feature \"importances\":')\n",
    "    print(final_model.feature_importances_)\n",
    "if hasattr(final_model, 'coef_'):\n",
    "    print('Feature correlation coefficients:')\n",
    "    print(final_model.coef_)"
   ]
  },
  {
   "cell_type": "code",
   "execution_count": null,
   "metadata": {},
   "outputs": [],
   "source": []
  }
 ],
 "metadata": {
  "kernelspec": {
   "display_name": "Python 3",
   "language": "python",
   "name": "python3"
  },
  "language_info": {
   "codemirror_mode": {
    "name": "ipython",
    "version": 3
   },
   "file_extension": ".py",
   "mimetype": "text/x-python",
   "name": "python",
   "nbconvert_exporter": "python",
   "pygments_lexer": "ipython3",
   "version": "3.6.5rc1"
  }
 },
 "nbformat": 4,
 "nbformat_minor": 2
}
