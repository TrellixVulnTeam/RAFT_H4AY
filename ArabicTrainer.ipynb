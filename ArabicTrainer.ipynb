{
 "cells": [
  {
   "cell_type": "code",
   "execution_count": 1,
   "metadata": {},
   "outputs": [],
   "source": [
    "import matplotlib.pyplot as plt\n",
    "import pandas\n",
    "from pandas.tools.plotting import scatter_matrix\n",
    "from sklearn import model_selection\n",
    "from sklearn.metrics import classification_report\n",
    "from sklearn.metrics import confusion_matrix\n",
    "from sklearn.metrics import accuracy_score\n",
    "\n",
    "# import model classes\n",
    "from sklearn.discriminant_analysis import LinearDiscriminantAnalysis\n",
    "from sklearn.linear_model import LogisticRegression\n",
    "from sklearn.naive_bayes import GaussianNB\n",
    "from sklearn.neighbors import KNeighborsClassifier\n",
    "from sklearn.svm import SVC\n",
    "from sklearn.tree import DecisionTreeClassifier"
   ]
  },
  {
   "cell_type": "code",
   "execution_count": 11,
   "metadata": {},
   "outputs": [
    {
     "name": "stdout",
     "output_type": "stream",
     "text": [
      "     word count  sentence count    p95       mean  median      noun      verb  \\\n",
      "0            40               7  21.70  11.333333    10.0  0.676471  0.000000   \n",
      "1           247              26  76.60  22.250000     9.5  0.556180  0.112360   \n",
      "2            20               2   9.20   3.200000     1.0  0.687500  0.125000   \n",
      "3            42               3  17.50   5.666667     3.0  0.647059  0.117647   \n",
      "4            29               4   7.50   2.666667     1.0  0.562500  0.187500   \n",
      "5            26               2  11.00   4.200000     3.0  0.619048  0.047619   \n",
      "6            23               3   8.40   4.250000     3.5  0.529412  0.294118   \n",
      "7           101              20  47.00  13.666667     3.5  0.707317  0.060976   \n",
      "8            86              22  38.65  15.250000     8.5  0.704918  0.049180   \n",
      "9            95               6  34.25  11.500000     6.0  0.608696  0.159420   \n",
      "10           74              18  29.00   9.333333     4.0  0.625000  0.125000   \n",
      "11           18               4   6.75   2.666667     1.5  0.500000  0.187500   \n",
      "12           15               2   4.70   2.500000     2.0  0.500000  0.100000   \n",
      "13          127               9  37.10  12.000000     7.0  0.510417  0.156250   \n",
      "14          158              12  44.45  15.125000    10.0  0.462810  0.132231   \n",
      "15          118               8  39.50  13.833333    10.0  0.590361  0.132530   \n",
      "16           72               6  19.70   7.428571     5.0  0.442308  0.230769   \n",
      "17          106               6  35.75  13.666667    11.0  0.524390  0.146341   \n",
      "18          150               6  48.75  19.000000    16.0  0.517544  0.157895   \n",
      "19           93              13  32.80  13.200000     8.0  0.560606  0.121212   \n",
      "20           17               3   6.80   2.800000     2.0  0.571429  0.142857   \n",
      "21          151               9  42.10  13.500000     5.0  0.500000  0.185185   \n",
      "22          109              11  29.30   9.714286     6.0  0.514706  0.088235   \n",
      "23          105               9  39.50  12.857143     9.0  0.555556  0.100000   \n",
      "24          113              10  28.90   9.375000     5.0  0.506667  0.133333   \n",
      "25           84               6  26.90   8.571429     6.0  0.583333  0.100000   \n",
      "26          102               7  29.55   9.750000     6.5  0.500000  0.141026   \n",
      "27          128               8  44.10  13.571429     8.0  0.600000  0.084211   \n",
      "28           92               8  28.90  10.000000     6.0  0.528571  0.142857   \n",
      "29          118               6  33.80  10.625000     6.5  0.529412  0.152941   \n",
      "..          ...             ...    ...        ...     ...       ...       ...   \n",
      "858         141              28  39.00  10.000000     3.0  0.572727  0.136364   \n",
      "859         294              22  88.00  24.888889    12.0  0.553571  0.151786   \n",
      "860         143               9  49.75  17.666667     9.5  0.566038  0.179245   \n",
      "861         109              11  27.70  10.571429    10.0  0.459459  0.135135   \n",
      "862          63              11  29.80  11.500000     5.5  0.739130  0.130435   \n",
      "863          81              23  39.55  12.750000     2.0  0.901961  0.058824   \n",
      "864         104              12  22.25   9.500000     6.5  0.438596  0.105263   \n",
      "865         182              47  46.80  15.000000     6.0  0.746667  0.026667   \n",
      "866         144              14  40.20  13.714286    10.0  0.531250  0.145833   \n",
      "867         191              19  48.60  15.111111     6.0  0.477941  0.169118   \n",
      "868          10               4   2.90   2.000000     2.0  0.750000  0.000000   \n",
      "869          50              10  16.20   6.750000     4.0  0.666667  0.037037   \n",
      "870         151              14  44.00  14.571429     9.0  0.549020  0.156863   \n",
      "871         233              24  73.90  23.285714    12.0  0.558282  0.122699   \n",
      "872         115              21  28.40   9.875000     6.0  0.430380  0.139241   \n",
      "873          53              18  23.85  10.000000     5.5  0.675000  0.125000   \n",
      "874         159              14  43.00  12.777778     6.0  0.513043  0.165217   \n",
      "875         123              26  35.00  10.285714     2.0  0.611111  0.111111   \n",
      "876          99              12  36.00  10.571429     7.0  0.648649  0.094595   \n",
      "877         123              24  30.45   8.000000     2.5  0.656250  0.031250   \n",
      "878         199              36  60.25  16.250000     5.5  0.638462  0.084615   \n",
      "879          75              16  22.20   6.142857     2.0  0.697674  0.069767   \n",
      "880           3               3   1.00   1.000000     1.0  1.000000  0.000000   \n",
      "881          12               3   4.40   2.000000     1.0  0.625000  0.000000   \n",
      "882          22               5   9.20   4.333333     2.0  0.769231  0.000000   \n",
      "883         157              10  45.85  14.125000     9.0  0.557522  0.123894   \n",
      "884         110              23  23.00   9.111111     7.0  0.378049  0.134146   \n",
      "885         231              32  55.50  15.727273     7.0  0.398844  0.242775   \n",
      "886         233              29  63.70  22.000000    13.0  0.437500  0.153409   \n",
      "887         326              30  88.40  25.444444     9.0  0.532751  0.165939   \n",
      "\n",
      "         prep      part      conj       adv       adj  difficulty  \n",
      "0    0.294118  0.000000  0.000000  0.000000  0.029412           1  \n",
      "1    0.196629  0.000000  0.005618  0.011236  0.089888           1  \n",
      "2    0.062500  0.000000  0.000000  0.000000  0.062500           1  \n",
      "3    0.088235  0.000000  0.029412  0.000000  0.088235           1  \n",
      "4    0.062500  0.000000  0.062500  0.000000  0.062500           1  \n",
      "5    0.142857  0.000000  0.000000  0.000000  0.142857           1  \n",
      "6    0.117647  0.000000  0.000000  0.000000  0.058824           1  \n",
      "7    0.170732  0.000000  0.024390  0.012195  0.024390           1  \n",
      "8    0.229508  0.000000  0.000000  0.000000  0.016393           1  \n",
      "9    0.115942  0.000000  0.043478  0.000000  0.057971           1  \n",
      "10   0.196429  0.000000  0.017857  0.017857  0.000000           1  \n",
      "11   0.062500  0.000000  0.062500  0.062500  0.125000           1  \n",
      "12   0.300000  0.000000  0.000000  0.000000  0.000000           1  \n",
      "13   0.156250  0.000000  0.010417  0.010417  0.125000           2  \n",
      "14   0.190083  0.000000  0.049587  0.008264  0.115702           2  \n",
      "15   0.108434  0.012048  0.024096  0.000000  0.132530           2  \n",
      "16   0.134615  0.000000  0.057692  0.000000  0.096154           2  \n",
      "17   0.170732  0.000000  0.000000  0.000000  0.121951           2  \n",
      "18   0.131579  0.008772  0.035088  0.000000  0.149123           2  \n",
      "19   0.242424  0.015152  0.000000  0.000000  0.060606           2  \n",
      "20   0.071429  0.000000  0.000000  0.071429  0.142857           2  \n",
      "21   0.157407  0.000000  0.027778  0.009259  0.037037           2  \n",
      "22   0.235294  0.014706  0.000000  0.000000  0.102941           2  \n",
      "23   0.166667  0.011111  0.033333  0.000000  0.111111           2  \n",
      "24   0.093333  0.000000  0.026667  0.000000  0.160000           2  \n",
      "25   0.133333  0.000000  0.033333  0.000000  0.116667           2  \n",
      "26   0.153846  0.000000  0.076923  0.000000  0.089744           2  \n",
      "27   0.105263  0.010526  0.010526  0.000000  0.147368           2  \n",
      "28   0.142857  0.014286  0.042857  0.000000  0.085714           2  \n",
      "29   0.094118  0.023529  0.058824  0.000000  0.094118           2  \n",
      "..        ...       ...       ...       ...       ...         ...  \n",
      "858  0.109091  0.009091  0.009091  0.009091  0.063636           2  \n",
      "859  0.138393  0.004464  0.053571  0.013393  0.062500           2  \n",
      "860  0.132075  0.000000  0.000000  0.000000  0.047170           2  \n",
      "861  0.175676  0.000000  0.135135  0.027027  0.054054           2  \n",
      "862  0.108696  0.000000  0.000000  0.000000  0.021739           2  \n",
      "863  0.019608  0.000000  0.000000  0.000000  0.019608           2  \n",
      "864  0.245614  0.000000  0.070175  0.000000  0.122807           2  \n",
      "865  0.080000  0.000000  0.013333  0.000000  0.133333           2  \n",
      "866  0.156250  0.000000  0.031250  0.000000  0.104167           2  \n",
      "867  0.176471  0.000000  0.014706  0.014706  0.088235           2  \n",
      "868  0.250000  0.000000  0.000000  0.000000  0.000000           2  \n",
      "869  0.222222  0.000000  0.000000  0.000000  0.074074           2  \n",
      "870  0.137255  0.000000  0.019608  0.000000  0.088235           2  \n",
      "871  0.208589  0.000000  0.000000  0.012270  0.073620           2  \n",
      "872  0.227848  0.012658  0.012658  0.012658  0.151899           2  \n",
      "873  0.050000  0.000000  0.000000  0.000000  0.150000           2  \n",
      "874  0.095652  0.000000  0.052174  0.008696  0.104348           2  \n",
      "875  0.194444  0.000000  0.000000  0.000000  0.027778           2  \n",
      "876  0.094595  0.000000  0.027027  0.000000  0.108108           2  \n",
      "877  0.140625  0.000000  0.046875  0.000000  0.062500           2  \n",
      "878  0.138462  0.000000  0.000000  0.023077  0.061538           2  \n",
      "879  0.093023  0.000000  0.046512  0.000000  0.046512           2  \n",
      "880  0.000000  0.000000  0.000000  0.000000  0.000000           2  \n",
      "881  0.125000  0.000000  0.000000  0.000000  0.125000           2  \n",
      "882  0.153846  0.000000  0.000000  0.000000  0.076923           2  \n",
      "883  0.123894  0.000000  0.044248  0.017699  0.115044           2  \n",
      "884  0.097561  0.000000  0.073171  0.024390  0.134146           2  \n",
      "885  0.156069  0.005780  0.075145  0.011561  0.052023           2  \n",
      "886  0.221591  0.000000  0.022727  0.011364  0.090909           3  \n",
      "887  0.117904  0.004367  0.039301  0.000000  0.087336           3  \n",
      "\n",
      "[888 rows x 13 columns]\n"
     ]
    }
   ],
   "source": [
    "# Load dataset\n",
    "filename = 'arabicReading.data'\n",
    "names = ['word count','sentence count','p95','mean','median','noun','verb','prep','part','conj','adv','adj','difficulty']\n",
    "with open(filename) as data_file:\n",
    "    dataset = pandas.read_csv(data_file,names=names)  # pandas DataFrame\n",
    "print(dataset)"
   ]
  },
  {
   "cell_type": "code",
   "execution_count": 8,
   "metadata": {},
   "outputs": [],
   "source": [
    "# Split-out validation dataset\n",
    "array = dataset.values\n",
    "len_names = len(names)\n",
    "features = array[:,0:len_names-1]  # comma in slice signifies a tuple (tuples in slices is a numpy array thing)\n",
    "labels = array[:,-1]\n",
    "validation_size = 0.10\n",
    "seed = 7\n",
    "feats_train, feats_validation, labels_train, labels_validation = model_selection.train_test_split(features, labels, test_size=validation_size, random_state=seed)"
   ]
  },
  {
   "cell_type": "code",
   "execution_count": 9,
   "metadata": {},
   "outputs": [
    {
     "name": "stdout",
     "output_type": "stream",
     "text": [
      "\n"
     ]
    }
   ],
   "source": [
    "# Test options and evaluation metric\n",
    "seed = 7  # seeds the randomizer so that 'random' choices are the same in each run\n",
    "scoring = 'accuracy'\n",
    "print()"
   ]
  },
  {
   "cell_type": "code",
   "execution_count": 10,
   "metadata": {},
   "outputs": [
    {
     "name": "stdout",
     "output_type": "stream",
     "text": [
      "Initializing models...\n",
      "Training and testing each model using 10-fold cross-validation...\n",
      "LR:\t0.6634\t(0.0411)\n",
      "LDA:\t0.6684\t(0.0495)\n",
      "KNN:\t0.6395\t(0.0545)\n",
      "CART:\t0.6133\t(0.0494)\n"
     ]
    },
    {
     "name": "stderr",
     "output_type": "stream",
     "text": [
      "c:\\users\\maste\\envs\\envtest\\lib\\site-packages\\sklearn\\discriminant_analysis.py:442: UserWarning: The priors do not sum to 1. Renormalizing\n",
      "  UserWarning)\n"
     ]
    },
    {
     "name": "stdout",
     "output_type": "stream",
     "text": [
      "NB:\t0.6032\t(0.0585)\n",
      "SVM:\t0.6195\t(0.0310)\n"
     ]
    }
   ],
   "source": [
    "print('Initializing models...')\n",
    "# Spot Check Algorithms\n",
    "models = [('LR', LogisticRegression()),\n",
    "          ('LDA', LinearDiscriminantAnalysis()),\n",
    "          ('KNN', KNeighborsClassifier()),\n",
    "          ('CART', DecisionTreeClassifier()),\n",
    "          ('NB', GaussianNB()),\n",
    "          ('SVM', SVC())]\n",
    "print('Training and testing each model using 10-fold cross-validation...')\n",
    "# https://chrisjmccormick.files.wordpress.com/2013/07/10_fold_cv.png\n",
    "# evaluate each model in turn\n",
    "results = []\n",
    "names = []\n",
    "for name, model in models:\n",
    "    kfold = model_selection.KFold(n_splits=10, random_state=seed)\n",
    "    cv_results = model_selection.cross_val_score(model, feats_train, labels_train,\n",
    "                                                 cv=kfold, scoring=scoring)\n",
    "    results.append(cv_results)\n",
    "    names.append(name)\n",
    "    msg = '{}:\\t{:.4f}\\t({:.4f})'.format(name, cv_results.mean(),\n",
    "                                         cv_results.std())\n",
    "    print(msg)"
   ]
  },
  {
   "cell_type": "code",
   "execution_count": 6,
   "metadata": {},
   "outputs": [
    {
     "name": "stdout",
     "output_type": "stream",
     "text": [
      "Drawing algorithm comparison boxplots...\n"
     ]
    },
    {
     "data": {
      "image/png": "[encoded data removed]",
      "text/plain": [
       "<Figure size 432x288 with 1 Axes>"
      ]
     },
     "metadata": {
      "needs_background": "light"
     },
     "output_type": "display_data"
    }
   ],
   "source": [
    "print('Drawing algorithm comparison boxplots...')\n",
    "fig = plt.figure()\n",
    "fig.suptitle('Algorithm Comparison')\n",
    "ax = fig.add_subplot(111)\n",
    "plt.boxplot(results)\n",
    "ax.set_xticklabels(names)\n",
    "fig = plt.gcf()\n",
    "fig.savefig('compare_algorithms.png')"
   ]
  },
  {
   "cell_type": "code",
   "execution_count": 7,
   "metadata": {},
   "outputs": [
    {
     "name": "stdout",
     "output_type": "stream",
     "text": [
      "Accuracy: 0.6067415730337079\n",
      "\n",
      "Confusion matrix:\n",
      "labels: ['1', '2', '3', '4']\n"
     ]
    },
    {
     "name": "stderr",
     "output_type": "stream",
     "text": [
      "c:\\users\\maste\\envs\\envtest\\lib\\site-packages\\sklearn\\metrics\\classification.py:258: FutureWarning: elementwise comparison failed; returning scalar instead, but in the future will perform elementwise comparison\n",
      "  if np.all([l not in y_true for l in labels]):\n"
     ]
    },
    {
     "ename": "ValueError",
     "evalue": "At least one label specified must be in y_true",
     "output_type": "error",
     "traceback": [
      "\u001b[1;31m---------------------------------------------------------------------------\u001b[0m",
      "\u001b[1;31mValueError\u001b[0m                                Traceback (most recent call last)",
      "\u001b[1;32m<ipython-input-7-30c6439ec513>\u001b[0m in \u001b[0;36m<module>\u001b[1;34m()\u001b[0m\n\u001b[0;32m      9\u001b[0m \u001b[0mcm_labels\u001b[0m \u001b[1;33m=\u001b[0m \u001b[1;34m'1 2 3 4'\u001b[0m\u001b[1;33m.\u001b[0m\u001b[0msplit\u001b[0m\u001b[1;33m(\u001b[0m\u001b[1;33m)\u001b[0m\u001b[1;33m\u001b[0m\u001b[0m\n\u001b[0;32m     10\u001b[0m \u001b[0mprint\u001b[0m\u001b[1;33m(\u001b[0m\u001b[1;34m'labels:'\u001b[0m\u001b[1;33m,\u001b[0m \u001b[0mcm_labels\u001b[0m\u001b[1;33m)\u001b[0m\u001b[1;33m\u001b[0m\u001b[0m\n\u001b[1;32m---> 11\u001b[1;33m \u001b[0mprint\u001b[0m\u001b[1;33m(\u001b[0m\u001b[0mconfusion_matrix\u001b[0m\u001b[1;33m(\u001b[0m\u001b[0mlabels_validation\u001b[0m\u001b[1;33m,\u001b[0m \u001b[0mpredictions\u001b[0m\u001b[1;33m,\u001b[0m \u001b[0mlabels\u001b[0m\u001b[1;33m=\u001b[0m\u001b[0mcm_labels\u001b[0m\u001b[1;33m)\u001b[0m\u001b[1;33m)\u001b[0m\u001b[1;33m\u001b[0m\u001b[0m\n\u001b[0m\u001b[0;32m     12\u001b[0m \u001b[0mprint\u001b[0m\u001b[1;33m(\u001b[0m\u001b[1;33m)\u001b[0m\u001b[1;33m\u001b[0m\u001b[0m\n\u001b[0;32m     13\u001b[0m \u001b[0mprint\u001b[0m\u001b[1;33m(\u001b[0m\u001b[1;34m'Classification report:'\u001b[0m\u001b[1;33m)\u001b[0m\u001b[1;33m\u001b[0m\u001b[0m\n",
      "\u001b[1;32mc:\\users\\maste\\envs\\envtest\\lib\\site-packages\\sklearn\\metrics\\classification.py\u001b[0m in \u001b[0;36mconfusion_matrix\u001b[1;34m(y_true, y_pred, labels, sample_weight)\u001b[0m\n\u001b[0;32m    257\u001b[0m         \u001b[0mlabels\u001b[0m \u001b[1;33m=\u001b[0m \u001b[0mnp\u001b[0m\u001b[1;33m.\u001b[0m\u001b[0masarray\u001b[0m\u001b[1;33m(\u001b[0m\u001b[0mlabels\u001b[0m\u001b[1;33m)\u001b[0m\u001b[1;33m\u001b[0m\u001b[0m\n\u001b[0;32m    258\u001b[0m         \u001b[1;32mif\u001b[0m \u001b[0mnp\u001b[0m\u001b[1;33m.\u001b[0m\u001b[0mall\u001b[0m\u001b[1;33m(\u001b[0m\u001b[1;33m[\u001b[0m\u001b[0ml\u001b[0m \u001b[1;32mnot\u001b[0m \u001b[1;32min\u001b[0m \u001b[0my_true\u001b[0m \u001b[1;32mfor\u001b[0m \u001b[0ml\u001b[0m \u001b[1;32min\u001b[0m \u001b[0mlabels\u001b[0m\u001b[1;33m]\u001b[0m\u001b[1;33m)\u001b[0m\u001b[1;33m:\u001b[0m\u001b[1;33m\u001b[0m\u001b[0m\n\u001b[1;32m--> 259\u001b[1;33m             \u001b[1;32mraise\u001b[0m \u001b[0mValueError\u001b[0m\u001b[1;33m(\u001b[0m\u001b[1;34m\"At least one label specified must be in y_true\"\u001b[0m\u001b[1;33m)\u001b[0m\u001b[1;33m\u001b[0m\u001b[0m\n\u001b[0m\u001b[0;32m    260\u001b[0m \u001b[1;33m\u001b[0m\u001b[0m\n\u001b[0;32m    261\u001b[0m     \u001b[1;32mif\u001b[0m \u001b[0msample_weight\u001b[0m \u001b[1;32mis\u001b[0m \u001b[1;32mNone\u001b[0m\u001b[1;33m:\u001b[0m\u001b[1;33m\u001b[0m\u001b[0m\n",
      "\u001b[1;31mValueError\u001b[0m: At least one label specified must be in y_true"
     ]
    }
   ],
   "source": [
    "# Make predictions on validation dataset\n",
    "# Using svc because it performed best on cross-validation\n",
    "final_model = SVC()\n",
    "final_model.fit(feats_train, labels_train)\n",
    "predictions = final_model.predict(feats_validation)\n",
    "print('Accuracy:', accuracy_score(labels_validation, predictions))\n",
    "print()\n",
    "print('Confusion matrix:')\n",
    "cm_labels = '1 2 3 4'.split()\n",
    "print('labels:', cm_labels)\n",
    "print(confusion_matrix(labels_validation, predictions, labels=cm_labels))\n",
    "print()\n",
    "print('Classification report:')\n",
    "print(classification_report(labels_validation, predictions))\n",
    "print(dir(final_model))\n",
    "if hasattr(final_model, 'feature_importances_'):\n",
    "    print('Feature \"importances\":')\n",
    "    print(final_model.feature_importances_)\n",
    "if hasattr(final_model, 'coef_'):\n",
    "    print('Feature correlation coefficients:')\n",
    "    print(final_model.coef_)"
   ]
  },
  {
   "cell_type": "code",
   "execution_count": null,
   "metadata": {},
   "outputs": [],
   "source": []
  }
 ],
 "metadata": {
  "kernelspec": {
   "display_name": "Python 3",
   "language": "python",
   "name": "python3"
  },
  "language_info": {
   "codemirror_mode": {
    "name": "ipython",
    "version": 3
   },
   "file_extension": ".py",
   "mimetype": "text/x-python",
   "name": "python",
   "nbconvert_exporter": "python",
   "pygments_lexer": "ipython3",
   "version": "3.6.5rc1"
  }
 },
 "nbformat": 4,
 "nbformat_minor": 2
}
