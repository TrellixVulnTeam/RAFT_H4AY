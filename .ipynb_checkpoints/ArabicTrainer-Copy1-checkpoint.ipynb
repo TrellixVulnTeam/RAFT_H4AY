{
 "cells": [
  {
   "cell_type": "code",
   "execution_count": 1,
   "metadata": {},
   "outputs": [],
   "source": [
    "import matplotlib.pyplot as plt\n",
    "import pandas\n",
    "from pandas.tools.plotting import scatter_matrix\n",
    "from sklearn import model_selection\n",
    "from sklearn.metrics import classification_report\n",
    "from sklearn.metrics import confusion_matrix\n",
    "from sklearn.metrics import accuracy_score\n",
    "\n",
    "# import model classes\n",
    "from sklearn.discriminant_analysis import LinearDiscriminantAnalysis\n",
    "from sklearn.linear_model import LogisticRegression\n",
    "from sklearn.naive_bayes import GaussianNB\n",
    "from sklearn.neighbors import KNeighborsClassifier\n",
    "from sklearn.svm import SVC\n",
    "from sklearn.tree import DecisionTreeClassifier"
   ]
  },
  {
   "cell_type": "code",
   "execution_count": 2,
   "metadata": {},
   "outputs": [
    {
     "name": "stdout",
     "output_type": "stream",
     "text": [
      "<class 'pandas.core.frame.DataFrame'>\n"
     ]
    }
   ],
   "source": [
    "# Load dataset\n",
    "filename = 'arabicReading.data'\n",
    "names = ['word count','sentence count','p95','mean','median','noun','verb','prep','part','conj','adv','adj','difficulty']\n",
    "with open(filename) as data_file:\n",
    "    dataset = pandas.read_csv(data_file,names=names)  # pandas DataFrame\n",
    "print(type(dataset))"
   ]
  },
  {
   "cell_type": "code",
   "execution_count": 3,
   "metadata": {},
   "outputs": [
    {
     "name": "stdout",
     "output_type": "stream",
     "text": [
      "\"Shape\" of dataset: (888, 13) (888 instances of 13 attributes)\n",
      "\n",
      "\"head\" of data:\n",
      "     word count  sentence count    p95       mean  median      noun      verb  \\\n",
      "0           40               7  21.70  11.333333    10.0  0.676471  0.000000   \n",
      "1          247              26  76.60  22.250000     9.5  0.556180  0.112360   \n",
      "2           20               2   9.20   3.200000     1.0  0.687500  0.125000   \n",
      "3           42               3  17.50   5.666667     3.0  0.647059  0.117647   \n",
      "4           29               4   7.50   2.666667     1.0  0.562500  0.187500   \n",
      "5           26               2  11.00   4.200000     3.0  0.619048  0.047619   \n",
      "6           23               3   8.40   4.250000     3.5  0.529412  0.294118   \n",
      "7          101              20  47.00  13.666667     3.5  0.707317  0.060976   \n",
      "8           86              22  38.65  15.250000     8.5  0.704918  0.049180   \n",
      "9           95               6  34.25  11.500000     6.0  0.608696  0.159420   \n",
      "10          74              18  29.00   9.333333     4.0  0.625000  0.125000   \n",
      "11          18               4   6.75   2.666667     1.5  0.500000  0.187500   \n",
      "12          15               2   4.70   2.500000     2.0  0.500000  0.100000   \n",
      "13         127               9  37.10  12.000000     7.0  0.510417  0.156250   \n",
      "14         158              12  44.45  15.125000    10.0  0.462810  0.132231   \n",
      "15         118               8  39.50  13.833333    10.0  0.590361  0.132530   \n",
      "16          72               6  19.70   7.428571     5.0  0.442308  0.230769   \n",
      "17         106               6  35.75  13.666667    11.0  0.524390  0.146341   \n",
      "18         150               6  48.75  19.000000    16.0  0.517544  0.157895   \n",
      "19          93              13  32.80  13.200000     8.0  0.560606  0.121212   \n",
      "\n",
      "        prep      part      conj       adv       adj difficulty  \n",
      "0   0.294118  0.000000  0.000000  0.000000  0.029412          1  \n",
      "1   0.196629  0.000000  0.005618  0.011236  0.089888          1  \n",
      "2   0.062500  0.000000  0.000000  0.000000  0.062500          1  \n",
      "3   0.088235  0.000000  0.029412  0.000000  0.088235          1  \n",
      "4   0.062500  0.000000  0.062500  0.000000  0.062500          1  \n",
      "5   0.142857  0.000000  0.000000  0.000000  0.142857          1  \n",
      "6   0.117647  0.000000  0.000000  0.000000  0.058824          1  \n",
      "7   0.170732  0.000000  0.024390  0.012195  0.024390          1  \n",
      "8   0.229508  0.000000  0.000000  0.000000  0.016393          1  \n",
      "9   0.115942  0.000000  0.043478  0.000000  0.057971          1  \n",
      "10  0.196429  0.000000  0.017857  0.017857  0.000000          1  \n",
      "11  0.062500  0.000000  0.062500  0.062500  0.125000          1  \n",
      "12  0.300000  0.000000  0.000000  0.000000  0.000000          1  \n",
      "13  0.156250  0.000000  0.010417  0.010417  0.125000          2  \n",
      "14  0.190083  0.000000  0.049587  0.008264  0.115702          2  \n",
      "15  0.108434  0.012048  0.024096  0.000000  0.132530          2  \n",
      "16  0.134615  0.000000  0.057692  0.000000  0.096154          2  \n",
      "17  0.170732  0.000000  0.000000  0.000000  0.121951          2  \n",
      "18  0.131579  0.008772  0.035088  0.000000  0.149123          2  \n",
      "19  0.242424  0.015152  0.000000  0.000000  0.060606          2  \n",
      "\n",
      "Description of data:\n",
      ":         word count  sentence count         p95        mean      median  \\\n",
      "count   888.000000      888.000000  888.000000  888.000000  888.000000   \n",
      "mean    157.097973       11.087838   46.636768   15.103610    8.061374   \n",
      "std     107.550353        7.155004   29.014052    8.237094    4.786526   \n",
      "min       1.000000        2.000000    1.000000    1.000000    1.000000   \n",
      "25%      94.000000        7.000000   30.200000   10.482143    5.000000   \n",
      "50%     141.000000        9.000000   42.125000   13.857143    7.000000   \n",
      "75%     194.000000       13.000000   56.925000   18.000000   10.000000   \n",
      "max    1387.000000       66.000000  397.650000  106.800000   75.000000   \n",
      "\n",
      "             noun        verb        prep        part        conj         adv  \\\n",
      "count  888.000000  888.000000  888.000000  888.000000  888.000000  888.000000   \n",
      "mean     0.545790    0.129225    0.140654    0.003645    0.039016    0.005868   \n",
      "std      0.094929    0.053900    0.046342    0.007202    0.031410    0.011225   \n",
      "min      0.000000    0.000000    0.000000    0.000000    0.000000    0.000000   \n",
      "25%      0.493019    0.104115    0.117647    0.000000    0.015595    0.000000   \n",
      "50%      0.534091    0.130952    0.142105    0.000000    0.034483    0.000000   \n",
      "75%      0.584223    0.153846    0.168017    0.005780    0.055300    0.009434   \n",
      "max      1.000000    1.000000    0.421053    0.062500    0.185185    0.142857   \n",
      "\n",
      "              adj  \n",
      "count  888.000000  \n",
      "mean     0.095895  \n",
      "std      0.050190  \n",
      "min      0.000000  \n",
      "25%      0.062500  \n",
      "50%      0.092733  \n",
      "75%      0.122159  \n",
      "max      0.500000  \n",
      "\n",
      "Class distribution:\n",
      " difficulty\n",
      "1     121\n",
      "1+     47\n",
      "2     422\n",
      "2+    128\n",
      "3     142\n",
      "3+      3\n",
      "4      25\n",
      "dtype: int64\n",
      "\n"
     ]
    }
   ],
   "source": [
    "# Summarize the data\n",
    "print('\"Shape\" of dataset:', dataset.shape,\n",
    "      '({} instances of {} attributes)'.format(*dataset.shape))\n",
    "print()\n",
    "print('\"head\" of data:\\n', dataset.head(20))  # head() is a method of DataFrame\n",
    "print()\n",
    "print('Description of data:\\n:', dataset.describe())\n",
    "print()\n",
    "print('Class distribution:\\n', dataset.groupby('difficulty').size())\n",
    "print()"
   ]
  },
  {
   "cell_type": "code",
   "execution_count": 4,
   "metadata": {},
   "outputs": [
    {
     "name": "stdout",
     "output_type": "stream",
     "text": [
      "Drawing boxplot...\n",
      "finished\n"
     ]
    },
    {
     "data": {
      "image/png": "[encoded data removed]",
      "text/plain": [
       "<Figure size 432x288 with 25 Axes>"
      ]
     },
     "metadata": {
      "needs_background": "light"
     },
     "output_type": "display_data"
    }
   ],
   "source": [
    "# Visualize the data\n",
    "print('Drawing boxplot...')\n",
    "dataset.plot(kind='box', subplots=True, layout=(5, 5),\n",
    "             sharex=False, sharey=False)\n",
    "fig = plt.gcf()  # get current figure\n",
    "fig.savefig('boxplots.png')\n",
    "print('finished')"
   ]
  },
  {
   "cell_type": "code",
   "execution_count": 5,
   "metadata": {},
   "outputs": [
    {
     "data": {
      "text/plain": [
       "\"print('Drawing histograms...')\\ndataset.hist()\\nfig = plt.gcf()\\nfig.savefig('histograms.png')\""
      ]
     },
     "execution_count": 5,
     "metadata": {},
     "output_type": "execute_result"
    }
   ],
   "source": [
    "# histograms\n",
    "'''print('Drawing histograms...')\n",
    "dataset.hist()\n",
    "fig = plt.gcf()\n",
    "fig.savefig('histograms.png')'''"
   ]
  },
  {
   "cell_type": "code",
   "execution_count": 6,
   "metadata": {},
   "outputs": [
    {
     "data": {
      "text/plain": [
       "\"print('Drawing scatterplot matrix...')\\nscatter_matrix(dataset)\\nfig = plt.gcf()\\nfig.savefig('scatter_matrix.png')\""
      ]
     },
     "execution_count": 6,
     "metadata": {},
     "output_type": "execute_result"
    }
   ],
   "source": [
    "# scatter plot matrix\n",
    "'''print('Drawing scatterplot matrix...')\n",
    "scatter_matrix(dataset)\n",
    "fig = plt.gcf()\n",
    "fig.savefig('scatter_matrix.png')'''"
   ]
  },
  {
   "cell_type": "code",
   "execution_count": 14,
   "metadata": {},
   "outputs": [
    {
     "name": "stdout",
     "output_type": "stream",
     "text": [
      "Splitting training/development set and validation set...\n",
      "\tfull original data and their respective labels:\n",
      "[[40 7 21.7 11.333333333333336 10.0 0.6764705882352942 0.0\n",
      "  0.29411764705882354 0.0 0.0 0.0 0.029411764705882356]\n",
      " [247 26 76.59999999999997 22.25 9.5 0.5561797752808989\n",
      "  0.11235955056179776 0.19662921348314608 0.0 0.005617977528089888\n",
      "  0.011235955056179777 0.0898876404494382]\n",
      " [20 2 9.199999999999998 3.2 1.0 0.6875 0.125 0.0625 0.0 0.0 0.0 0.0625]\n",
      " [42 3 17.5 5.666666666666668 3.0 0.6470588235294118 0.1176470588235294\n",
      "  0.08823529411764706 0.0 0.029411764705882356 0.0 0.08823529411764706]\n",
      " [29 4 7.5 2.6666666666666665 1.0 0.5625 0.1875 0.0625 0.0 0.0625 0.0\n",
      "  0.0625]\n",
      " [26 2 11.0 4.2 3.0 0.6190476190476191 0.047619047619047616\n",
      "  0.14285714285714285 0.0 0.0 0.0 0.14285714285714285]\n",
      " [23 3 8.399999999999999 4.25 3.5 0.5294117647058824 0.29411764705882354\n",
      "  0.1176470588235294 0.0 0.0 0.0 0.05882352941176471]\n",
      " [101 20 47.0 13.666666666666664 3.5 0.7073170731707317\n",
      "  0.06097560975609756 0.17073170731707318 0.0 0.024390243902439025\n",
      "  0.012195121951219513 0.024390243902439025]\n",
      " [86 22 38.64999999999999 15.25 8.5 0.7049180327868853\n",
      "  0.049180327868852465 0.2295081967213115 0.0 0.0 0.0\n",
      "  0.016393442622950817]\n",
      " [95 6 34.25 11.5 6.0 0.6086956521739131 0.15942028985507245\n",
      "  0.11594202898550725 0.0 0.043478260869565216 0.0 0.05797101449275361]\n",
      " [74 18 29.0 9.333333333333334 4.0 0.625 0.125 0.19642857142857145 0.0\n",
      "  0.017857142857142856 0.017857142857142856 0.0]\n",
      " [18 4 6.75 2.6666666666666665 1.5 0.5 0.1875 0.0625 0.0 0.0625 0.0625\n",
      "  0.125]\n",
      " [15 2 4.699999999999998 2.5 2.0 0.5 0.1 0.3 0.0 0.0 0.0 0.0]]\n",
      "\n",
      "['1' '1' '1' '1' '1' '1' '1' '1' '1' '1' '1' '1' '1']\n",
      "\n",
      "\n",
      "\ttraining data:\n",
      "\n",
      "\n",
      "[[175 10 47.19999999999999 15.666666666666664 8.0 0.4539007092198582\n",
      "  0.15602836879432624 0.15602836879432624 0.014184397163120569\n",
      "  0.02127659574468085 0.014184397163120569 0.11347517730496455]\n",
      " [65 4 18.25 7.166666666666668 4.0 0.4651162790697674 0.13953488372093026\n",
      "  0.3023255813953488 0.0 0.02325581395348837 0.0 0.04651162790697674]\n",
      " [92 13 25.09999999999999 8.571428571428571 2.0 0.4833333333333333\n",
      "  0.26666666666666666 0.16666666666666666 0.0 0.016666666666666666 0.0\n",
      "  0.016666666666666666]\n",
      " [55 11 22.099999999999987 6.857142857142858 3.0 0.6041666666666666 0.125\n",
      "  0.10416666666666667 0.0 0.02083333333333333 0.0 0.04166666666666666]\n",
      " [75 4 25.799999999999986 8.428571428571429 3.0 0.559322033898305\n",
      "  0.13559322033898305 0.15254237288135594 0.0 0.03389830508474576 0.0\n",
      "  0.05084745762711865]]\n",
      "\n",
      "\ttraining labels:\n",
      "\n",
      "\n",
      "['2' '2+' '1' '2' '2']\n",
      "\n",
      "\tvalidation data:\n",
      "\n",
      "\n",
      "[[176 6 40.899999999999984 16.375 16.5 0.3816793893129771\n",
      "  0.1297709923664122 0.1450381679389313 0.0 0.18320610687022898\n",
      "  0.0076335877862595426 0.12213740458015268]\n",
      " [204 12 68.19999999999996 18.25 5.0 0.6301369863013698\n",
      "  0.10273972602739724 0.1643835616438356 0.0 0.02054794520547945 0.0\n",
      "  0.04794520547945205]\n",
      " [76 27 18.7 14.0 16.0 0.4523809523809524 0.3809523809523809\n",
      "  0.16666666666666666 0.0 0.0 0.0 0.0]\n",
      " [749 37 225.39999999999992 66.66666666666667 19.0 0.5216666666666666\n",
      "  0.10833333333333334 0.13166666666666665 0.0016666666666666668\n",
      "  0.03166666666666667 0.0 0.15666666666666668]\n",
      " [94 4 33.09999999999998 10.0 6.0 0.6142857142857143 0.08571428571428573\n",
      "  0.14285714285714285 0.0 0.014285714285714284 0.0 0.1]]\n",
      "\n",
      "\tvalidation labels:\n",
      "\n",
      "\n",
      "['2' '2+' '1' '4' '2']\n"
     ]
    }
   ],
   "source": [
    "print('Splitting training/development set and validation set...')\n",
    "# Split-out validation dataset\n",
    "array = dataset.values\n",
    "len_names = len(names)\n",
    "features = array[:,0:12]  # comma in slice signifies a tuple (tuples in slices is a numpy array thing)\n",
    "labels = array[:,-1]\n",
    "print('\\tfull original data and their respective labels:')\n",
    "print(features[:13], labels[:13], sep='\\n\\n', end='\\n\\n\\n')\n",
    "validation_size = 0.20\n",
    "seed = 7\n",
    "feats_train, feats_validation, labels_train, labels_validation = model_selection.train_test_split(features, labels, test_size=validation_size, random_state=seed)\n",
    "print('\\ttraining data:\\n', feats_train[:5],\n",
    "      '\\ttraining labels:\\n', labels_train[:5],\n",
    "      '\\tvalidation data:\\n', feats_validation[:5],\n",
    "      '\\tvalidation labels:\\n', labels_validation[:5], sep='\\n\\n')"
   ]
  },
  {
   "cell_type": "code",
   "execution_count": 15,
   "metadata": {},
   "outputs": [
    {
     "name": "stdout",
     "output_type": "stream",
     "text": [
      "\n"
     ]
    }
   ],
   "source": [
    "# Test options and evaluation metric\n",
    "seed = 7  # seeds the randomizer so that 'random' choices are the same in each run\n",
    "scoring = 'accuracy'\n",
    "print()"
   ]
  },
  {
   "cell_type": "code",
   "execution_count": 16,
   "metadata": {},
   "outputs": [
    {
     "name": "stdout",
     "output_type": "stream",
     "text": [
      "Initializing models...\n",
      "Training and testing each model using 10-fold cross-validation...\n",
      "LR:\t0.5408\t(0.0437)\n",
      "LDA:\t0.5732\t(0.0467)\n",
      "KNN:\t0.5296\t(0.0699)\n",
      "CART:\t0.4732\t(0.0516)\n",
      "NB:\t0.5282\t(0.0624)\n"
     ]
    },
    {
     "name": "stderr",
     "output_type": "stream",
     "text": [
      "c:\\users\\maste\\envs\\envtest\\lib\\site-packages\\sklearn\\discriminant_analysis.py:442: UserWarning: The priors do not sum to 1. Renormalizing\n",
      "  UserWarning)\n",
      "c:\\users\\maste\\envs\\envtest\\lib\\site-packages\\sklearn\\discriminant_analysis.py:442: UserWarning: The priors do not sum to 1. Renormalizing\n",
      "  UserWarning)\n",
      "c:\\users\\maste\\envs\\envtest\\lib\\site-packages\\sklearn\\discriminant_analysis.py:442: UserWarning: The priors do not sum to 1. Renormalizing\n",
      "  UserWarning)\n",
      "c:\\users\\maste\\envs\\envtest\\lib\\site-packages\\sklearn\\discriminant_analysis.py:442: UserWarning: The priors do not sum to 1. Renormalizing\n",
      "  UserWarning)\n"
     ]
    },
    {
     "name": "stdout",
     "output_type": "stream",
     "text": [
      "SVM:\t0.4634\t(0.0536)\n"
     ]
    }
   ],
   "source": [
    "print('Initializing models...')\n",
    "# Spot Check Algorithms\n",
    "models = [('LR', LogisticRegression()),\n",
    "          ('LDA', LinearDiscriminantAnalysis()),\n",
    "          ('KNN', KNeighborsClassifier()),\n",
    "          ('CART', DecisionTreeClassifier()),\n",
    "          ('NB', GaussianNB()),\n",
    "          ('SVM', SVC())]\n",
    "print('Training and testing each model using 10-fold cross-validation...')\n",
    "# https://chrisjmccormick.files.wordpress.com/2013/07/10_fold_cv.png\n",
    "# evaluate each model in turn\n",
    "results = []\n",
    "names = []\n",
    "for name, model in models:\n",
    "    kfold = model_selection.KFold(n_splits=10, random_state=seed)\n",
    "    cv_results = model_selection.cross_val_score(model, feats_train, labels_train,\n",
    "                                                 cv=kfold, scoring=scoring)\n",
    "    results.append(cv_results)\n",
    "    names.append(name)\n",
    "    msg = '{}:\\t{:.4f}\\t({:.4f})'.format(name, cv_results.mean(),\n",
    "                                         cv_results.std())\n",
    "    print(msg)"
   ]
  },
  {
   "cell_type": "code",
   "execution_count": null,
   "metadata": {},
   "outputs": [],
   "source": [
    "print('Drawing algorithm comparison boxplots...')\n",
    "fig = plt.figure()\n",
    "fig.suptitle('Algorithm Comparison')\n",
    "ax = fig.add_subplot(111)\n",
    "plt.boxplot(results)\n",
    "ax.set_xticklabels(names)\n",
    "fig = plt.gcf()\n",
    "fig.savefig('compare_algorithms.png')"
   ]
  },
  {
   "cell_type": "code",
   "execution_count": null,
   "metadata": {},
   "outputs": [],
   "source": [
    "# Make predictions on validation dataset\n",
    "# Using svc because it performed best on cross-validation\n",
    "final_model = SVC()\n",
    "final_model.fit(feats_train, labels_train)\n",
    "predictions = final_model.predict(feats_validation)\n",
    "print('Accuracy:', accuracy_score(labels_validation, predictions))\n",
    "print()\n",
    "print('Confusion matrix:')\n",
    "cm_labels = '1 1+ 2 2+ 3'.split()\n",
    "print('labels:', cm_labels)\n",
    "print(confusion_matrix(labels_validation, predictions, labels=cm_labels))\n",
    "print()\n",
    "print('Classification report:')\n",
    "print(classification_report(labels_validation, predictions))\n",
    "print(dir(final_model))\n",
    "if hasattr(final_model, 'feature_importances_'):\n",
    "    print('Feature \"importances\":')\n",
    "    print(final_model.feature_importances_)\n",
    "if hasattr(final_model, 'coef_'):\n",
    "    print('Feature correlation coefficients:')\n",
    "    print(final_model.coef_)"
   ]
  },
  {
   "cell_type": "code",
   "execution_count": null,
   "metadata": {},
   "outputs": [],
   "source": []
  }
 ],
 "metadata": {
  "kernelspec": {
   "display_name": "Python 3",
   "language": "python",
   "name": "python3"
  },
  "language_info": {
   "codemirror_mode": {
    "name": "ipython",
    "version": 3
   },
   "file_extension": ".py",
   "mimetype": "text/x-python",
   "name": "python",
   "nbconvert_exporter": "python",
   "pygments_lexer": "ipython3",
   "version": "3.6.5rc1"
  }
 },
 "nbformat": 4,
 "nbformat_minor": 2
}
