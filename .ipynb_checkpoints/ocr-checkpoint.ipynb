{
 "cells": [
  {
   "cell_type": "code",
   "execution_count": 4,
   "metadata": {},
   "outputs": [],
   "source": [
    "import requests\n",
    "from bs4 import BeautifulSoup"
   ]
  },
  {
   "cell_type": "code",
   "execution_count": 7,
   "metadata": {},
   "outputs": [
    {
     "name": "stdout",
     "output_type": "stream",
     "text": [
      "{\"ParsedResults\":[{\"TextOverlay\":{\"Lines\":[],\"HasOverlay\":false,\"Message\":\"Text overlay is not provided as it is not requested\"},\"TextOrientation\":\"0\",\"FileParseExitCode\":1,\"ParsedText\":\"لا٥٠:ل٢٥٦٤٥م١الزيوع \\r\\nالاسبـوع الأول \\r\\nفي \\r\\nا ردء، ها \\r\\nبهرسة \\r\\nواجوي «يدم ه \\r\\nلا. - /هءر \\r\\nجاه فصل \\r\\nالصيف، \\r\\nفاشتدت حرارة \\r\\nالشمس، وأقفلت \\r\\nالمدارس أبوابها. \\r\\nفي هذا الفصل ينضج البطيخ والتين والرمان. وفيه أيضا يذهب \\r\\nالناس الى البحر ليسبحوا في مياهه، أو إلى الجبل ليتنشقوا هواءه \\r\\n. غير أنه \\r\\nالمنمش . \\r\\nبدأت العطلة، فلعب شادي طويلا وتنزه. \\r\\nكب الدراجة، تسلق الأشجـار والتلال، زارالاصدقاء .. \\r\\nبعد أسبوع، بدا يحس بالملل. ماذا يفعل؟.. تذكر وظائف العـطلة \\r\\nالصيفية فبدا يخصص لها كل صباح ساعتين، ولم ينس أن يقرأ بعض \\r\\nالكتب المسلية ذات الرسوم الجميلة والقصص الحلوة. فكان يقرا فيها \\r\\nكل مساء. \\r\\n\",\"ErrorMessage\":\"\",\"ErrorDetails\":\"\"}],\"OCRExitCode\":1,\"IsErroredOnProcessing\":false,\"ProcessingTimeInMilliseconds\":\"1613\",\"SearchablePDFURL\":\"Searchable PDF not generated as it was not requested.\"}\n"
     ]
    }
   ],
   "source": [
    "#create a list of urls\n",
    "#cycle through list and retrieve text\n",
    "url = 'http://www.sultaneducation.com/Multimedia/Pictures/Arabic%20Stories/Story%201.jpg' #image url\n",
    "ocrUrl = 'https://api.ocr.space/parse/imageurl?apikey=18a5ee319788957&language=ara&url='+url\n",
    "req = requests.get(ocrUrl)\n",
    "soup = BeautifulSoup(req.content,'html.parser')\n",
    "print(soup.text)\n"
   ]
  },
  {
   "cell_type": "code",
   "execution_count": null,
   "metadata": {},
   "outputs": [],
   "source": []
  }
 ],
 "metadata": {
  "kernelspec": {
   "display_name": "Python 3",
   "language": "python",
   "name": "python3"
  },
  "language_info": {
   "codemirror_mode": {
    "name": "ipython",
    "version": 3
   },
   "file_extension": ".py",
   "mimetype": "text/x-python",
   "name": "python",
   "nbconvert_exporter": "python",
   "pygments_lexer": "ipython3",
   "version": "3.6.5rc1"
  }
 },
 "nbformat": 4,
 "nbformat_minor": 2
}
