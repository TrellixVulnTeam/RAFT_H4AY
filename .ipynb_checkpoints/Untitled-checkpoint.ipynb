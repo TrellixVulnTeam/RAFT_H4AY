{
 "cells": [
  {
   "cell_type": "code",
   "execution_count": 1,
   "metadata": {},
   "outputs": [
    {
     "ename": "SyntaxError",
     "evalue": "(unicode error) 'unicodeescape' codec can't decode bytes in position 2-3: truncated \\UXXXXXXXX escape (<ipython-input-1-66042761b23d>, line 10)",
     "output_type": "error",
     "traceback": [
      "\u001b[1;36m  File \u001b[1;32m\"<ipython-input-1-66042761b23d>\"\u001b[1;36m, line \u001b[1;32m10\u001b[0m\n\u001b[1;33m    for filename in os.listdir('C:\\Users\\maste\\Desktop\\hindawi\\business'):\u001b[0m\n\u001b[1;37m                              ^\u001b[0m\n\u001b[1;31mSyntaxError\u001b[0m\u001b[1;31m:\u001b[0m (unicode error) 'unicodeescape' codec can't decode bytes in position 2-3: truncated \\UXXXXXXXX escape\n"
     ]
    }
   ],
   "source": [
    "import os\n",
    "import ebooklib\n",
    "from ebooklib import epub\n",
    "from bs4 import BeautifulSoup\n",
    "\n",
    "\n",
    "output = open('epubsMiniCorpus.txt', 'w', encoding='utf-8')\n",
    "\n",
    "for filename in os.listdir('C:\\Users\\maste\\Desktop\\hindawi\\business'):\n",
    "    book = epub.read_epub(filename)\n",
    "    \n",
    "    for item in book.get_items():\n",
    "        if item.get_type() == ebooklib.ITEM_DOCUMENT:\n",
    "            output.write('================================================\\n')\n",
    "            text = BeautifulSoup(item.get_body_content()).get_text()\n",
    "            output.write(text +'\\n')\n",
    "            output.write('================================================\\n\\n')\n",
    "    break\n",
    "output.close()"
   ]
  }
 ],
 "metadata": {
  "kernelspec": {
   "display_name": "Python 3",
   "language": "python",
   "name": "python3"
  },
  "language_info": {
   "codemirror_mode": {
    "name": "ipython",
    "version": 3
   },
   "file_extension": ".py",
   "mimetype": "text/x-python",
   "name": "python",
   "nbconvert_exporter": "python",
   "pygments_lexer": "ipython3",
   "version": "3.6.5rc1"
  }
 },
 "nbformat": 4,
 "nbformat_minor": 2
}
