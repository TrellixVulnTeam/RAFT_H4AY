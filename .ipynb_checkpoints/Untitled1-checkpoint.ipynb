{
 "cells": [
  {
   "cell_type": "code",
   "execution_count": 33,
   "metadata": {},
   "outputs": [
    {
     "name": "stdout",
     "output_type": "stream",
     "text": [
      "digraph Tree {\n",
      "node [shape=box, style=\"filled, rounded\", color=\"black\", fontname=helvetica] ;\n",
      "edge [fontname=helvetica] ;\n",
      "0 [label=\"petal width (cm) <= 0.8\\ngini = 0.66\\nsamples = 93\\nvalue = [58, 41, 51]\\nclass = setosa\", fillcolor=\"#e5813912\"] ;\n",
      "1 [label=\"gini = 0.0\\nsamples = 34\\nvalue = [58, 0, 0]\\nclass = setosa\", fillcolor=\"#e58139ff\"] ;\n",
      "0 -> 1 [labeldistance=2.5, labelangle=45, headlabel=\"True\"] ;\n",
      "2 [label=\"sepal length (cm) <= 6.05\\ngini = 0.49\\nsamples = 59\\nvalue = [0, 41, 51]\\nclass = virginica\", fillcolor=\"#8139e532\"] ;\n",
      "0 -> 2 [labeldistance=2.5, labelangle=-45, headlabel=\"False\"] ;\n",
      "3 [label=\"petal width (cm) <= 1.7\\ngini = 0.36\\nsamples = 26\\nvalue = [0, 30, 9]\\nclass = versicolor\", fillcolor=\"#39e581b3\"] ;\n",
      "2 -> 3 ;\n",
      "4 [label=\"petal length (cm) <= 4.75\\ngini = 0.06\\nsamples = 20\\nvalue = [0, 29, 1]\\nclass = versicolor\", fillcolor=\"#39e581f6\"] ;\n",
      "3 -> 4 ;\n",
      "5 [label=\"gini = 0.0\\nsamples = 19\\nvalue = [0, 29, 0]\\nclass = versicolor\", fillcolor=\"#39e581ff\"] ;\n",
      "4 -> 5 ;\n",
      "6 [label=\"gini = 0.0\\nsamples = 1\\nvalue = [0, 0, 1]\\nclass = virginica\", fillcolor=\"#8139e5ff\"] ;\n",
      "4 -> 6 ;\n",
      "7 [label=\"petal length (cm) <= 4.85\\ngini = 0.2\\nsamples = 6\\nvalue = [0, 1, 8]\\nclass = virginica\", fillcolor=\"#8139e5df\"] ;\n",
      "3 -> 7 ;\n",
      "8 [label=\"sepal width (cm) <= 3.1\\ngini = 0.5\\nsamples = 2\\nvalue = [0, 1, 1]\\nclass = versicolor\", fillcolor=\"#39e58100\"] ;\n",
      "7 -> 8 ;\n",
      "9 [label=\"gini = 0.0\\nsamples = 1\\nvalue = [0, 0, 1]\\nclass = virginica\", fillcolor=\"#8139e5ff\"] ;\n",
      "8 -> 9 ;\n",
      "10 [label=\"gini = 0.0\\nsamples = 1\\nvalue = [0, 1, 0]\\nclass = versicolor\", fillcolor=\"#39e581ff\"] ;\n",
      "8 -> 10 ;\n",
      "11 [label=\"gini = 0.0\\nsamples = 4\\nvalue = [0, 0, 7]\\nclass = virginica\", fillcolor=\"#8139e5ff\"] ;\n",
      "7 -> 11 ;\n",
      "12 [label=\"petal width (cm) <= 1.7\\ngini = 0.33\\nsamples = 33\\nvalue = [0, 11, 42]\\nclass = virginica\", fillcolor=\"#8139e5bc\"] ;\n",
      "2 -> 12 ;\n",
      "13 [label=\"petal length (cm) <= 5.25\\ngini = 0.26\\nsamples = 9\\nvalue = [0, 11, 2]\\nclass = versicolor\", fillcolor=\"#39e581d1\"] ;\n",
      "12 -> 13 ;\n",
      "14 [label=\"gini = 0.0\\nsamples = 8\\nvalue = [0, 11, 0]\\nclass = versicolor\", fillcolor=\"#39e581ff\"] ;\n",
      "13 -> 14 ;\n",
      "15 [label=\"gini = 0.0\\nsamples = 1\\nvalue = [0, 0, 2]\\nclass = virginica\", fillcolor=\"#8139e5ff\"] ;\n",
      "13 -> 15 ;\n",
      "16 [label=\"gini = 0.0\\nsamples = 24\\nvalue = [0, 0, 40]\\nclass = virginica\", fillcolor=\"#8139e5ff\"] ;\n",
      "12 -> 16 ;\n",
      "}\n"
     ]
    },
    {
     "ename": "FileNotFoundError",
     "evalue": "[Errno 2] No such file or directory: ''",
     "output_type": "error",
     "traceback": [
      "\u001b[1;31m---------------------------------------------------------------------------\u001b[0m",
      "\u001b[1;31mFileNotFoundError\u001b[0m                         Traceback (most recent call last)",
      "\u001b[1;32m<ipython-input-33-39908f52840a>\u001b[0m in \u001b[0;36m<module>\u001b[1;34m()\u001b[0m\n\u001b[0;32m     22\u001b[0m \u001b[0mprint\u001b[0m\u001b[1;33m(\u001b[0m\u001b[0mdotFile\u001b[0m\u001b[1;33m)\u001b[0m\u001b[1;33m\u001b[0m\u001b[0m\n\u001b[0;32m     23\u001b[0m \u001b[0mfile\u001b[0m\u001b[1;33m.\u001b[0m\u001b[0mclose\u001b[0m\u001b[1;33m(\u001b[0m\u001b[1;33m)\u001b[0m\u001b[1;33m\u001b[0m\u001b[0m\n\u001b[1;32m---> 24\u001b[1;33m \u001b[0mfile\u001b[0m \u001b[1;33m=\u001b[0m \u001b[0mopen\u001b[0m\u001b[1;33m(\u001b[0m\u001b[1;34m''\u001b[0m\u001b[1;33m)\u001b[0m\u001b[1;33m\u001b[0m\u001b[0m\n\u001b[0m\u001b[0;32m     25\u001b[0m \u001b[1;33m\u001b[0m\u001b[0m\n\u001b[0;32m     26\u001b[0m '''\n",
      "\u001b[1;31mFileNotFoundError\u001b[0m: [Errno 2] No such file or directory: ''"
     ]
    }
   ],
   "source": [
    "from sklearn.datasets import load_iris\n",
    "iris = load_iris()\n",
    "\n",
    "# Model (can also use single decision tree)\n",
    "from sklearn.ensemble import RandomForestClassifier\n",
    "model = RandomForestClassifier(n_estimators=10)\n",
    "\n",
    "# Train\n",
    "model.fit(iris.data, iris.target)\n",
    "# Extract single tree\n",
    "estimator = model.estimators_[5]\n",
    "\n",
    "from sklearn.tree import export_graphviz\n",
    "# Export as dot file\n",
    "export_graphviz(estimator, out_file='tree.dot', \n",
    "                feature_names = iris.feature_names,\n",
    "                class_names = iris.target_names,\n",
    "                rounded = True, proportion = False, \n",
    "                precision = 2, filled = True)\n",
    "file = open('tree.dot', 'r')\n",
    "dotFile = file.read()\n",
    "print(dotFile)\n",
    "file.close()\n",
    "file = open('')\n",
    "\n",
    "'''\n",
    "# Convert to png using system command (requires Graphviz)\n",
    "from subprocess import call\n",
    "call(['dot', '-Tpng', 'tree.dot', '-o', 'tree.png', '-Gdpi=600'])\n",
    "\n",
    "# Display in jupyter notebook\n",
    "from IPython.display import Image\n",
    "Image(filename = 'tree.png')\n",
    "'''"
   ]
  },
  {
   "cell_type": "code",
   "execution_count": 37,
   "metadata": {},
   "outputs": [
    {
     "name": "stdout",
     "output_type": "stream",
     "text": [
      "0.6904761904761905\n"
     ]
    },
    {
     "ename": "ValueError",
     "evalue": "Length of feature_names, 16 does not match number of features, 4",
     "output_type": "error",
     "traceback": [
      "\u001b[1;31m---------------------------------------------------------------------------\u001b[0m",
      "\u001b[1;31mValueError\u001b[0m                                Traceback (most recent call last)",
      "\u001b[1;32m<ipython-input-37-84059881d32b>\u001b[0m in \u001b[0;36m<module>\u001b[1;34m()\u001b[0m\n\u001b[0;32m     35\u001b[0m                 \u001b[0mclass_names\u001b[0m \u001b[1;33m=\u001b[0m \u001b[1;33m[\u001b[0m\u001b[1;34m'1'\u001b[0m\u001b[1;33m,\u001b[0m \u001b[1;34m'2'\u001b[0m\u001b[1;33m,\u001b[0m \u001b[1;34m'3'\u001b[0m\u001b[1;33m,\u001b[0m \u001b[1;34m'4'\u001b[0m\u001b[1;33m]\u001b[0m\u001b[1;33m,\u001b[0m\u001b[1;33m\u001b[0m\u001b[0m\n\u001b[0;32m     36\u001b[0m                 \u001b[0mrounded\u001b[0m \u001b[1;33m=\u001b[0m \u001b[1;32mTrue\u001b[0m\u001b[1;33m,\u001b[0m \u001b[0mproportion\u001b[0m \u001b[1;33m=\u001b[0m \u001b[1;32mFalse\u001b[0m\u001b[1;33m,\u001b[0m\u001b[1;33m\u001b[0m\u001b[0m\n\u001b[1;32m---> 37\u001b[1;33m                 precision = 2, filled = True)\n\u001b[0m\u001b[0;32m     38\u001b[0m \u001b[0mfile\u001b[0m \u001b[1;33m=\u001b[0m \u001b[0mopen\u001b[0m\u001b[1;33m(\u001b[0m\u001b[1;34m'tree.dot'\u001b[0m\u001b[1;33m,\u001b[0m \u001b[1;34m'r'\u001b[0m\u001b[1;33m)\u001b[0m\u001b[1;33m\u001b[0m\u001b[0m\n\u001b[0;32m     39\u001b[0m \u001b[0mdotFile\u001b[0m \u001b[1;33m=\u001b[0m \u001b[0mfile\u001b[0m\u001b[1;33m.\u001b[0m\u001b[0mread\u001b[0m\u001b[1;33m(\u001b[0m\u001b[1;33m)\u001b[0m\u001b[1;33m\u001b[0m\u001b[0m\n",
      "\u001b[1;32mc:\\users\\maste\\envs\\envtest\\lib\\site-packages\\sklearn\\tree\\export.py\u001b[0m in \u001b[0;36mexport_graphviz\u001b[1;34m(decision_tree, out_file, max_depth, feature_names, class_names, label, filled, leaves_parallel, impurity, node_ids, proportion, rotate, rounded, special_characters, precision)\u001b[0m\n\u001b[0;32m    427\u001b[0m                                  \u001b[1;34m\"does not match number of features, %d\"\u001b[0m\u001b[1;33m\u001b[0m\u001b[0m\n\u001b[0;32m    428\u001b[0m                                  % (len(feature_names),\n\u001b[1;32m--> 429\u001b[1;33m                                     decision_tree.n_features_))\n\u001b[0m\u001b[0;32m    430\u001b[0m \u001b[1;33m\u001b[0m\u001b[0m\n\u001b[0;32m    431\u001b[0m         \u001b[1;31m# The depth of each node for plotting with 'leaf' option\u001b[0m\u001b[1;33m\u001b[0m\u001b[1;33m\u001b[0m\u001b[0m\n",
      "\u001b[1;31mValueError\u001b[0m: Length of feature_names, 16 does not match number of features, 4"
     ]
    }
   ],
   "source": [
    "# Save Model Using Pickle\n",
    "import pandas\n",
    "from sklearn import model_selection\n",
    "from sklearn.linear_model import LogisticRegression\n",
    "from sklearn.tree import DecisionTreeClassifier\n",
    "from sklearn.ensemble import RandomForestClassifier\n",
    "import pickle\n",
    "\n",
    "url = \"trainingData.csv\"\n",
    "#sentence_length, word_length, lexical_diversity, lexical_complexity, max_lexical_complexity, p95, mean, median, noun, pron, verb, prep, part, conj, adv, adj, score\n",
    "names = ['sentence_length', 'word_length', 'lexical_diversity', 'lexical_complexity', 'max_lexical_complexity', 'p95', 'mean', 'median', 'noun', 'pron', 'verb', 'prep', 'part', 'conj', 'adv', 'adj', 'score']\n",
    "len_names = len(names) - 1\n",
    "dataframe = pandas.read_csv(url, names=names)\n",
    "array = dataframe.values\n",
    "X = array[:,0:len_names]\n",
    "Y = array[:,len_names]\n",
    "test_size = 0.33\n",
    "seed = 7\n",
    "X_train, X_test, Y_train, Y_test = model_selection.train_test_split(X, Y, test_size=test_size, random_state=seed)\n",
    "# Fit the model on 33%\n",
    "model = RandomForestClassifier()\n",
    "model.fit(X_train, Y_train)\n",
    "# save the model to disk\n",
    "filename = 'finalized_model.sav'\n",
    "pickle.dump(model, open(filename, 'wb'))\n",
    " \n",
    "# some time later...\n",
    " \n",
    "# load the model from disk\n",
    "loaded_model = pickle.load(open(filename, 'rb'))\n",
    "result = loaded_model.score(X_test, Y_test)\n",
    "print(result)\n",
    "\n",
    "export_graphviz(estimator, out_file='tree.dot', \n",
    "                feature_names = names,\n",
    "                class_names = ['1', '2', '3', '4'],\n",
    "                rounded = True, proportion = False, \n",
    "                precision = 2, filled = True)\n",
    "file = open('tree.dot', 'r')\n",
    "dotFile = file.read()\n",
    "print(dotFile)\n",
    "file.close()\n",
    "file = open('')"
   ]
  }
 ],
 "metadata": {
  "kernelspec": {
   "display_name": "Python 3",
   "language": "python",
   "name": "python3"
  },
  "language_info": {
   "codemirror_mode": {
    "name": "ipython",
    "version": 3
   },
   "file_extension": ".py",
   "mimetype": "text/x-python",
   "name": "python",
   "nbconvert_exporter": "python",
   "pygments_lexer": "ipython3",
   "version": "3.6.5rc1"
  }
 },
 "nbformat": 4,
 "nbformat_minor": 2
}
