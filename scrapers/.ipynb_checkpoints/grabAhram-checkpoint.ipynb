{
 "cells": [
  {
   "cell_type": "code",
   "execution_count": 1,
   "metadata": {},
   "outputs": [],
   "source": [
    "import requests\n",
    "from pathlib import Path\n",
    "import os\n",
    "from bs4 import BeautifulSoup"
   ]
  },
  {
   "cell_type": "code",
   "execution_count": null,
   "metadata": {},
   "outputs": [
    {
     "name": "stdout",
     "output_type": "stream",
     "text": [
      "76\n",
      "155\n",
      "243\n",
      "336\n",
      "415\n",
      "507\n",
      "588\n",
      "664\n",
      "760\n",
      "841\n",
      "929\n",
      "1014\n",
      "1100\n",
      "1175\n",
      "1254\n",
      "1335\n",
      "1425\n",
      "1515\n",
      "1597\n",
      "1670\n",
      "1751\n",
      "1827\n",
      "1913\n",
      "1995\n",
      "2081\n",
      "2170\n",
      "2263\n",
      "2352\n",
      "2427\n",
      "2496\n",
      "2582\n",
      "2664\n",
      "2752\n",
      "2833\n",
      "2928\n",
      "3007\n"
     ]
    }
   ],
   "source": [
    "links = {}\n",
    "directory = 'C:\\\\Users\\\\maste\\\\Desktop\\\\freqCorpus\\\\ahram'\n",
    "#for issue in range(202531, 202931):\n",
    "for issue in range(202822, 202931):\n",
    "    issueDir = os.path.join(directory,str(issue))\n",
    "    if (os.path.isdir(issueDir) == False):\n",
    "        os.mkdir(issueDir)\n",
    "    r = requests.get('http://www.ahram.org.eg/Index.aspx?IssueID='+str(issue))\n",
    "    soup = BeautifulSoup(r.text, 'html.parser')\n",
    "    headlines = soup.find_all('div', {'class':'hd_four_news'})\n",
    "    articles = soup.find_all('div', {'class':'bref_four_news_list'})\n",
    "    aTags = []\n",
    "    for article in headlines:\n",
    "        aTags.append(article.find_all('a'))\n",
    "    for article in articles:\n",
    "        aTags.append(article.find_all('a'))\n",
    "    count = 0\n",
    "    for aa in aTags:\n",
    "        a = aa[0]\n",
    "        href = a.get('href')\n",
    "        if (href[0] == 'N'):\n",
    "            href = 'http://www.ahram.org.eg/'+href\n",
    "        article = BeautifulSoup(requests.get(href).text, 'html.parser')\n",
    "        for script in article([\"script\", \"style\"]):\n",
    "            script.decompose()    # rip it out\n",
    "        text = ''\n",
    "        ps = article.find_all('p')\n",
    "        for p in ps:\n",
    "            text += (p.text + '\\n')\n",
    "        file = os.path.join(issueDir,'ahram_'+str(issue)+'_'+str(count)+'.txt')\n",
    "        with open(file, \"w+\", encoding=\"utf8\") as f:\n",
    "            f.write('<difficulty></difficulty>\\n')\n",
    "            f.write('<body>\\n')\n",
    "            f.write(text)\n",
    "            f.write('\\n</body>')\n",
    "        count += 1\n",
    "        links[href] = False\n",
    "    print(issue, ':',len(links))"
   ]
  }
 ],
 "metadata": {
  "kernelspec": {
   "display_name": "Python 3",
   "language": "python",
   "name": "python3"
  },
  "language_info": {
   "codemirror_mode": {
    "name": "ipython",
    "version": 3
   },
   "file_extension": ".py",
   "mimetype": "text/x-python",
   "name": "python",
   "nbconvert_exporter": "python",
   "pygments_lexer": "ipython3",
   "version": "3.6.5rc1"
  }
 },
 "nbformat": 4,
 "nbformat_minor": 2
}
