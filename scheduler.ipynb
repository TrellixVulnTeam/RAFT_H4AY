{
 "cells": [
  {
   "cell_type": "code",
   "execution_count": 1,
   "metadata": {},
   "outputs": [],
   "source": [
    "import pandas as pd"
   ]
  },
  {
   "cell_type": "code",
   "execution_count": 2,
   "metadata": {},
   "outputs": [],
   "source": [
    "students = [[0] * 4 for i in range(6)]"
   ]
  },
  {
   "cell_type": "code",
   "execution_count": 20,
   "metadata": {},
   "outputs": [
    {
     "name": "stdout",
     "output_type": "stream",
     "text": [
      "1\n"
     ]
    }
   ],
   "source": [
    "students = [[1,1,0,1],[0,1,1,1],[1,1,1,0],[0,1,1,1],[1,0,0,1],[0,1,1,1]]\n"
   ]
  },
  {
   "cell_type": "code",
   "execution_count": 4,
   "metadata": {},
   "outputs": [
    {
     "name": "stdout",
     "output_type": "stream",
     "text": [
      "3\n",
      "5\n",
      "4\n",
      "5\n"
     ]
    }
   ],
   "source": [
    "#just seeing how many total students want to do each activity\n",
    "total = [0] * len(students[0])\n",
    "for student in range(0, len(students)):\n",
    "    for i in range(0, len(students[0])):\n",
    "        total[i] += students[student][i]\n",
    "\n",
    "for i in range(0, len(students[0])):\n",
    "    print(total[i])"
   ]
  },
  {
   "cell_type": "code",
   "execution_count": 43,
   "metadata": {},
   "outputs": [],
   "source": [
    "def findStudentForLesson(lesson):\n",
    "    for student in range(0, len(students)):\n",
    "            print\n",
    "            if students[student][lesson] == 1:\n",
    "                students[student][lesson] = 0\n",
    "                return student\n",
    "    return -1"
   ]
  },
  {
   "cell_type": "code",
   "execution_count": 49,
   "metadata": {},
   "outputs": [
    {
     "name": "stdout",
     "output_type": "stream",
     "text": [
      "[[[-1, -1, -1], [-1, -1, -1], [-1, -1, -1], [-1, -1, -1]], [[-1, -1, -1], [-1, -1, -1], [-1, -1, -1], [-1, -1, -1]]]\n",
      "[[0, 0, 0, 0], [0, 0, 0, 0], [0, 0, 0, 0], [0, 0, 0, 0], [0, 0, 0, 0], [0, 1, 0, 1]]\n",
      "[[[0, 2, 4], [0, 1, 2], [1, 2, 3], [0, 1, 3]], [[-1, -1, -1], [-1, -1, -1], [-1, -1, -1], [-1, -1, -1]]]\n",
      "[[0, 0, 0, 0], [0, 0, 0, 0], [0, 0, 0, 0], [0, 0, 0, 0], [0, 0, 0, 0], [0, 0, 0, 0]]\n",
      "[[[0, 2, 4], [0, 1, 2], [1, 2, 3], [0, 1, 3]], [[0, -1, -1], [5, -1, -1], [0, -1, -1], [5, -1, -1]]]\n"
     ]
    }
   ],
   "source": [
    "#set up an empty schedule, the first index keeps track of the current slot\n",
    "schedule = [[[-1] * 3 for i in range(4)] for j in range(2)]\n",
    "students = [[1,1,0,1],[0,1,1,1],[1,1,1,0],[0,1,1,1],[1,0,0,1],[0,1,1,1]]\n",
    "print(schedule)\n",
    "for block in range(0,len(schedule)):\n",
    "    for lesson in range(0,len(schedule[0])):\n",
    "        cur = 0\n",
    "        stud = findStudentForSlot(lesson)\n",
    "        while cur < 3 and stud != -1:\n",
    "            schedule[block][lesson][cur] = stud\n",
    "            cur += 1\n",
    "            stud = findStudentForLesson(lesson)\n",
    "    print(students)\n",
    "    print(schedule)\n",
    "        "
   ]
  },
  {
   "cell_type": "code",
   "execution_count": null,
   "metadata": {},
   "outputs": [],
   "source": []
  }
 ],
 "metadata": {
  "kernelspec": {
   "display_name": "Python 3",
   "language": "python",
   "name": "python3"
  },
  "language_info": {
   "codemirror_mode": {
    "name": "ipython",
    "version": 3
   },
   "file_extension": ".py",
   "mimetype": "text/x-python",
   "name": "python",
   "nbconvert_exporter": "python",
   "pygments_lexer": "ipython3",
   "version": "3.6.5rc1"
  }
 },
 "nbformat": 4,
 "nbformat_minor": 2
}
