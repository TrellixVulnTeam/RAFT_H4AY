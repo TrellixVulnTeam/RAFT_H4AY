{
 "cells": [
  {
   "cell_type": "code",
   "execution_count": 1,
   "metadata": {},
   "outputs": [],
   "source": [
    "from pathlib import Path\n",
    "import os\n",
    "from bs4 import BeautifulSoup\n",
    "import sys"
   ]
  },
  {
   "cell_type": "code",
   "execution_count": 2,
   "metadata": {
    "scrolled": true
   },
   "outputs": [
    {
     "ename": "SyntaxError",
     "evalue": "invalid syntax (<ipython-input-2-a21c3b4940b5>, line 1)",
     "output_type": "error",
     "traceback": [
      "\u001b[1;36m  File \u001b[1;32m\"<ipython-input-2-a21c3b4940b5>\"\u001b[1;36m, line \u001b[1;32m1\u001b[0m\n\u001b[1;33m    def renameFile(directory, fname, count)\u001b[0m\n\u001b[1;37m                                           ^\u001b[0m\n\u001b[1;31mSyntaxError\u001b[0m\u001b[1;31m:\u001b[0m invalid syntax\n"
     ]
    }
   ],
   "source": [
    "def renameFile(directory, fname, count):\n",
    "    ogFile = os.path.join(directory, fname)\n",
    "    newFile = os.path.join(directory, str(count)+'.txt')\n",
    "    os.rename(ogFile, newFile)\n",
    "\n",
    "def getFiles(directory, prefix):\n",
    "    count = 0\n",
    "    for fname in os.listdir(directory):\n",
    "        file = os.path.join(directory, fname)\n",
    "        if (os.path.isdir(file) == True):\n",
    "            getFiles(file)\n",
    "        else:\n",
    "            count += 1\n",
    "            renameFile(directory, fname, count)\n",
    "            sys.exit()\n",
    "    print(directory)"
   ]
  },
  {
   "cell_type": "code",
   "execution_count": null,
   "metadata": {},
   "outputs": [],
   "source": [
    "directory = \"C:\\\\Users\\\\maste\\\\Desktop\\\\freqCorpus\\\\base\"\n",
    "getFiles(directory, '')"
   ]
  }
 ],
 "metadata": {
  "kernelspec": {
   "display_name": "Python 3",
   "language": "python",
   "name": "python3"
  },
  "language_info": {
   "codemirror_mode": {
    "name": "ipython",
    "version": 3
   },
   "file_extension": ".py",
   "mimetype": "text/x-python",
   "name": "python",
   "nbconvert_exporter": "python",
   "pygments_lexer": "ipython3",
   "version": "3.6.5rc1"
  }
 },
 "nbformat": 4,
 "nbformat_minor": 2
}
