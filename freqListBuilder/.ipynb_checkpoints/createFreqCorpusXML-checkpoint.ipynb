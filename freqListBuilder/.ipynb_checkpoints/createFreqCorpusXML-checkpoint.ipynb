{
 "cells": [
  {
   "cell_type": "code",
   "execution_count": null,
   "metadata": {},
   "outputs": [],
   "source": [
    "from pathlib import Path\n",
    "import os\n",
    "from bs4 import BeautifulSoup"
   ]
  },
  {
   "cell_type": "code",
   "execution_count": null,
   "metadata": {},
   "outputs": [],
   "source": [
    "def createContent(text):\n",
    "    content = '''<?xml version=\"1.0\" encoding=\"UTF-8\"?>\n",
    "<madamira_input xmlns=\"urn:edu.columbia.ccls.madamira.configuration:0.1\">\n",
    "\t<madamira_configuration>\n",
    "        <preprocessing sentence_ids=\"false\" separate_punct=\"true\" input_encoding=\"UTF8\"/>\n",
    "        <overall_vars output_encoding=\"UTF8\" dialect=\"MSA\" output_analyses=\"TOP\" morph_backoff=\"NONE\"/>\n",
    "        <requested_output>\n",
    "            <req_variable name=\"PREPROCESSED\" value=\"false\" />\n",
    "            <req_variable name=\"STEM\" value=\"false\" />\n",
    "            <req_variable name=\"GLOSS\" value=\"false\" />\n",
    "            <req_variable name=\"LEMMA\" value=\"true\" />\n",
    "            <req_variable name=\"DIAC\" value=\"false\" />\n",
    "            <req_variable name=\"ASP\" value=\"false\" />\n",
    "            <req_variable name=\"CAS\" value=\"false\" />\n",
    "            <req_variable name=\"ENC0\" value=\"false\" />\n",
    "            <req_variable name=\"ENC1\" value=\"false\" />\n",
    "            <req_variable name=\"ENC2\" value=\"false\" />\n",
    "            <req_variable name=\"GEN\" value=\"false\" />\n",
    "            <req_variable name=\"MOD\" value=\"false\" />\n",
    "            <req_variable name=\"NUM\" value=\"false\" />\n",
    "            <req_variable name=\"PER\" value=\"false\" />\n",
    "            <req_variable name=\"POS\" value=\"true\" />\n",
    "            <req_variable name=\"PRC0\" value=\"false\" />\n",
    "            <req_variable name=\"PRC1\" value=\"false\" />\n",
    "            <req_variable name=\"PRC2\" value=\"false\" />\n",
    "            <req_variable name=\"PRC3\" value=\"false\" />\n",
    "            <req_variable name=\"STT\" value=\"false\" />\n",
    "            <req_variable name=\"VOX\" value=\"false\" />\n",
    "            <req_variable name=\"BW\" value=\"false\" />\n",
    "            <req_variable name=\"SOURCE\" value=\"false\" />\n",
    "\t\t\t<req_variable name=\"NER\" value=\"false\" />\n",
    "\t\t\t<req_variable name=\"BPC\" value=\"false\" />\n",
    "        </requested_output>\n",
    "\t</madamira_configuration>\n",
    "    <in_doc id=\"ExampleDocument\">\n",
    "        <in_seg id=\"BODY\">'''\n",
    "    content += '\\n'+text\n",
    "    content += '\\n</in_seg>\\n</in_doc>\\n</madamira_input>'\n",
    "    return content\n",
    "\n",
    "def createXml(file):\n",
    "    with open(file, \"r\", encoding=\"utf8\") as f:\n",
    "            doc = f.read()\n",
    "            soup = BeautifulSoup(doc, 'html.parser')\n",
    "            body = soup.find('body')\n",
    "            if (body != None):\n",
    "                t = body.text\n",
    "            else:\n",
    "                t = doc\n",
    "\n",
    "def getFiles(directory):\n",
    "    for fname in os.listdir(directory):\n",
    "        file = os.path.join(directory, fname)\n",
    "        if (os.path.isdir(file) == True):\n",
    "            getFiles(file)\n",
    "        else:\n",
    "            createXml(file)\n",
    "            break\n",
    "    print(directory)"
   ]
  },
  {
   "cell_type": "code",
   "execution_count": null,
   "metadata": {},
   "outputs": [],
   "source": [
    "directory = \"C:\\\\Users\\\\maste\\\\Desktop\\\\freqCorpus\"\n",
    "count = getFiles(directory)\n",
    "print(count)"
   ]
  }
 ],
 "metadata": {
  "kernelspec": {
   "display_name": "Python 3",
   "language": "python",
   "name": "python3"
  },
  "language_info": {
   "codemirror_mode": {
    "name": "ipython",
    "version": 3
   },
   "file_extension": ".py",
   "mimetype": "text/x-python",
   "name": "python",
   "nbconvert_exporter": "python",
   "pygments_lexer": "ipython3",
   "version": "3.6.5rc1"
  }
 },
 "nbformat": 4,
 "nbformat_minor": 2
}
