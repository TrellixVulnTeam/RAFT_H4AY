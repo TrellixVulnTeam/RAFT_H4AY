{
 "cells": [
  {
   "cell_type": "code",
   "execution_count": 2,
   "metadata": {},
   "outputs": [],
   "source": [
    "from pathlib import Path\n",
    "import os\n",
    "from bs4 import BeautifulSoup\n",
    "import sys"
   ]
  },
  {
   "cell_type": "code",
   "execution_count": 9,
   "metadata": {},
   "outputs": [],
   "source": [
    "def createContent(text):\n",
    "    content = '<difficulty></difficulty>\\n'\n",
    "    content = '<body>\\n'\n",
    "    content += text\n",
    "    content += '</body>'\n",
    "    return content\n",
    "\n",
    "def createFarasaInput(directory, fname):\n",
    "    dOut = \"C:\\\\Users\\\\maste\\\\Desktop\\\\freqCorpus\\\\farasaTest\"\n",
    "    file = os.path.join(directory, fname)\n",
    "    fileOut = os.path.join(dOut, fname)\n",
    "    t = ''\n",
    "    with open(file, \"r\", encoding=\"utf8\") as f:\n",
    "        doc = f.read()\n",
    "        soup = BeautifulSoup(doc, 'html.parser')\n",
    "        body = soup.find('body')\n",
    "        if (body != None):\n",
    "            t = body.text\n",
    "        else:\n",
    "            t = doc\n",
    "    with open(fileOut, \"w+\", encoding=\"utf8\") as f:\n",
    "        f.write(createContent(t))\n",
    "\n",
    "def getFiles(directory, display):\n",
    "    for fname in os.listdir(directory):\n",
    "        file = os.path.join(directory, fname)\n",
    "        if (os.path.isdir(file) == True):\n",
    "            getFiles(file, False)\n",
    "            if (display == True):\n",
    "                print(file)\n",
    "        else:\n",
    "            createFarasaInput(directory, fname)"
   ]
  },
  {
   "cell_type": "code",
   "execution_count": 10,
   "metadata": {},
   "outputs": [
    {
     "name": "stdout",
     "output_type": "stream",
     "text": [
      "C:\\Users\\maste\\Desktop\\freqCorpus\\base\\ahram\n",
      "C:\\Users\\maste\\Desktop\\freqCorpus\\base\\bbc\n",
      "C:\\Users\\maste\\Desktop\\freqCorpus\\base\\cnn\n",
      "C:\\Users\\maste\\Desktop\\freqCorpus\\base\\haybinyakzhan\n",
      "C:\\Users\\maste\\Desktop\\freqCorpus\\base\\hindawi\n",
      "C:\\Users\\maste\\Desktop\\freqCorpus\\base\\mawdoo\n",
      "C:\\Users\\maste\\Desktop\\freqCorpus\\base\\osac\n"
     ]
    }
   ],
   "source": [
    "directory = \"C:\\\\Users\\\\maste\\\\Desktop\\\\freqCorpus\\\\base\"\n",
    "getFiles(directory, True)"
   ]
  }
 ],
 "metadata": {
  "kernelspec": {
   "display_name": "Python 3",
   "language": "python",
   "name": "python3"
  },
  "language_info": {
   "codemirror_mode": {
    "name": "ipython",
    "version": 3
   },
   "file_extension": ".py",
   "mimetype": "text/x-python",
   "name": "python",
   "nbconvert_exporter": "python",
   "pygments_lexer": "ipython3",
   "version": "3.6.5rc1"
  }
 },
 "nbformat": 4,
 "nbformat_minor": 2
}
